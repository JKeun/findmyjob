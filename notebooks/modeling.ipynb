{
 "cells": [
  {
   "cell_type": "markdown",
   "metadata": {},
   "source": [
    "### LOAD DATA"
   ]
  },
  {
   "cell_type": "code",
   "execution_count": 1,
   "metadata": {},
   "outputs": [
    {
     "name": "stdout",
     "output_type": "stream",
     "text": [
      "15154 377\n",
      "14574 239\n"
     ]
    }
   ],
   "source": [
    "import pandas as pd\n",
    "import numpy as np\n",
    "\n",
    "df = pd.read_csv(\"../data/train.csv\")\n",
    "print(len(df), len(df['job_title'].unique()))\n",
    "\n",
    "job_count = df.groupby('job_title').size()\n",
    "df = df.replace(job_count[job_count < 10].index, np.nan)\n",
    "df = df.dropna()\n",
    "df = df.reset_index(drop=True)\n",
    "print(len(df), len(df['job_title'].unique()))"
   ]
  },
  {
   "cell_type": "markdown",
   "metadata": {},
   "source": [
    "### TEXT PREPROCESSING"
   ]
  },
  {
   "cell_type": "code",
   "execution_count": 2,
   "metadata": {},
   "outputs": [],
   "source": [
    "from sklearn.preprocessing import LabelEncoder\n",
    "\n",
    "le = LabelEncoder()\n",
    "y = le.fit_transform(df['job_title'])\n",
    "y_class = le.classes_\n",
    "X = df['description'].values"
   ]
  },
  {
   "cell_type": "code",
   "execution_count": 3,
   "metadata": {},
   "outputs": [],
   "source": [
    "from sklearn.feature_extraction.text import CountVectorizer, TfidfTransformer\n",
    "from sklearn.naive_bayes import MultinomialNB\n",
    "from sklearn.pipeline import Pipeline\n",
    "from sklearn.model_selection import GridSearchCV"
   ]
  },
  {
   "cell_type": "markdown",
   "metadata": {},
   "source": [
    "### GRID SEARCH"
   ]
  },
  {
   "cell_type": "code",
   "execution_count": null,
   "metadata": {},
   "outputs": [],
   "source": [
    "# stopwords: english, ngram: (1, 2), alpha: 0.0002, Tfidf use\n",
    "\n",
    "clf_pipe = Pipeline([\n",
    "    ('vect', CountVectorizer(stop_words='english')),\n",
    "    ('tfidf', TfidfTransformer()),\n",
    "    ('clf', MultinomialNB()),\n",
    "])\n",
    "\n",
    "grid_params = {\n",
    "    'vect__ngram_range': [(1, 1), (1, 2)],\n",
    "    'tfidf__use_idf': (True, False),\n",
    "    'clf__alpha': np.logspace(-1, -4, 10)\n",
    "}\n",
    "\n",
    "clf = GridSearchCV(clf_pipe, grid_params)\n",
    "clf = clf.fit(X, y)\n",
    "\n",
    "print(clf.best_params_, clf.best_score_)"
   ]
  },
  {
   "cell_type": "code",
   "execution_count": 4,
   "metadata": {},
   "outputs": [
    {
     "name": "stdout",
     "output_type": "stream",
     "text": [
      "{'clf__alpha': 0.001} 0.6163717594483836\n"
     ]
    }
   ],
   "source": [
    "# stopwords: english, ngram: (1, 1), alpha: 0.00016, Tfidf use\n",
    "\n",
    "clf2_pipe = Pipeline([\n",
    "    ('vect', CountVectorizer(ngram_range=(1,1) ,stop_words='english')),\n",
    "    ('tfidf', TfidfTransformer(use_idf=True)),\n",
    "    ('clf', MultinomialNB()),\n",
    "])\n",
    "\n",
    "grid_params = {\n",
    "    'clf__alpha': np.logspace(-4, -3, 10)\n",
    "}\n",
    "\n",
    "clf2 = GridSearchCV(clf2_pipe, grid_params)\n",
    "clf2 = clf2.fit(X, y)\n",
    "\n",
    "print(clf2.best_params_, clf2.best_score_)"
   ]
  },
  {
   "cell_type": "code",
   "execution_count": 5,
   "metadata": {},
   "outputs": [
    {
     "data": {
      "text/plain": [
       "array(['Data Scientist'], dtype=object)"
      ]
     },
     "execution_count": 5,
     "metadata": {},
     "output_type": "execute_result"
    }
   ],
   "source": [
    "y_class[clf2.predict(['hello python, machine learning'])]"
   ]
  },
  {
   "cell_type": "markdown",
   "metadata": {},
   "source": [
    "### MODEL DUMP"
   ]
  },
  {
   "cell_type": "code",
   "execution_count": 7,
   "metadata": {},
   "outputs": [
    {
     "data": {
      "text/plain": [
       "['../flask_api/models/pred-model.pkl']"
      ]
     },
     "execution_count": 7,
     "metadata": {},
     "output_type": "execute_result"
    }
   ],
   "source": [
    "import joblib\n",
    "joblib.dump(clf2, '../flask_api/models/pred-model.pkl')"
   ]
  },
  {
   "cell_type": "code",
   "execution_count": 8,
   "metadata": {
    "scrolled": true
   },
   "outputs": [
    {
     "data": {
      "text/plain": [
       "['../flask_api/models/y-class.pkl']"
      ]
     },
     "execution_count": 8,
     "metadata": {},
     "output_type": "execute_result"
    }
   ],
   "source": [
    "joblib.dump(y_class, '../flask_api/models/y-class.pkl')"
   ]
  },
  {
   "cell_type": "markdown",
   "metadata": {},
   "source": [
    "### PREDICT RESULT FORMAT"
   ]
  },
  {
   "cell_type": "code",
   "execution_count": 9,
   "metadata": {},
   "outputs": [],
   "source": [
    "pred_prob = clf2.predict_proba(['hello python machine learning'])[0]"
   ]
  },
  {
   "cell_type": "markdown",
   "metadata": {},
   "source": [
    "##### FORMAT 0 (best)"
   ]
  },
  {
   "cell_type": "code",
   "execution_count": 10,
   "metadata": {},
   "outputs": [
    {
     "data": {
      "text/plain": [
       "[('Data Scientist', 0.28147724748799013),\n",
       " ('Data Analyst', 0.2120212331540459),\n",
       " ('Business Analyst', 0.1201267330399222),\n",
       " ('Solution Architect', 0.04030680067200857),\n",
       " ('Quantitative Developer', 0.02836807540103587)]"
      ]
     },
     "execution_count": 10,
     "metadata": {},
     "output_type": "execute_result"
    }
   ],
   "source": [
    "sorted_list = sorted(list(zip(y_class, pred_prob)), key=lambda x: x[1], reverse=True)\n",
    "sorted_list[:5]"
   ]
  },
  {
   "cell_type": "code",
   "execution_count": 13,
   "metadata": {},
   "outputs": [],
   "source": [
    "import json\n",
    "\n",
    "responses = {\n",
    "    'items': [],\n",
    "}\n",
    "index = 0\n",
    "\n",
    "for job, prob in sorted_list:\n",
    "    responses['items'].append({\n",
    "        'rank': index+1,\n",
    "        'job': job,\n",
    "        'prob': prob\n",
    "    })\n",
    "    index += 1"
   ]
  },
  {
   "cell_type": "code",
   "execution_count": 14,
   "metadata": {
    "scrolled": false
   },
   "outputs": [
    {
     "data": {
      "text/plain": [
       "'{\"items\": [{\"rank\": 1, \"job\": \"Data Scientist\", \"prob\": 0.28147724748799013}, {\"rank\": 2, \"job\": \"Data Analyst\", \"prob\": 0.2120212331540459}, {\"rank\": 3, \"job\": \"Business Analyst\", \"prob\": 0.1201267330399222}, {\"rank\": 4, \"job\": \"Solution Architect\", \"prob\": 0.04030680067200857}, {\"rank\": 5, \"job\": \"Quantitative Developer\", \"prob\": 0.02836807540103587}, {\"rank\": 6, \"job\": \"Automation Engineer\", \"prob\": 0.021804659303114295}, {\"rank\": 7, \"job\": \"Plumber\", \"prob\": 0.021480847359805072}, {\"rank\": 8, \"job\": \"Miner \", \"prob\": 0.020384632447473395}, {\"rank\": 9, \"job\": \"RF Engineer\", \"prob\": 0.017279699251549076}, {\"rank\": 10, \"job\": \"Research Analyst\", \"prob\": 0.016702440175178947}, {\"rank\": 11, \"job\": \"Director Of Engineering\", \"prob\": 0.015660066611118604}, {\"rank\": 12, \"job\": \"Research Scientist\", \"prob\": 0.015519215358830697}, {\"rank\": 13, \"job\": \"QA Engineer\", \"prob\": 0.012777082435627954}, {\"rank\": 14, \"job\": \"Instructional Designer\", \"prob\": 0.010673366194983982}, {\"rank\": 15, \"job\": \"Computer Programmer\", \"prob\": 0.009878521337361418}, {\"rank\": 16, \"job\": \"IT Business Analyst\", \"prob\": 0.008343710146618081}, {\"rank\": 17, \"job\": \"Technical Writer\", \"prob\": 0.008006727126042876}, {\"rank\": 18, \"job\": \"Statistician\", \"prob\": 0.0077637370560115875}, {\"rank\": 19, \"job\": \"Restaurant Manager\", \"prob\": 0.007677189854270094}, {\"rank\": 20, \"job\": \"Verification Engineer\", \"prob\": 0.007180632230819411}, {\"rank\": 21, \"job\": \"Electrical Engineer\", \"prob\": 0.006865446957564361}, {\"rank\": 22, \"job\": \"Web Developer\", \"prob\": 0.006180433905121656}, {\"rank\": 23, \"job\": \"Quantitative Analyst\", \"prob\": 0.005639881501319221}, {\"rank\": 24, \"job\": \"Mechanical Engineer \", \"prob\": 0.004770155799572899}, {\"rank\": 25, \"job\": \"Optical Engineer\", \"prob\": 0.00425652627895939}, {\"rank\": 26, \"job\": \"Historian\", \"prob\": 0.004013094276571871}, {\"rank\": 27, \"job\": \"Network Administrator\", \"prob\": 0.0035149154393075387}, {\"rank\": 28, \"job\": \"User Experience Researcher\", \"prob\": 0.003100863843012197}, {\"rank\": 29, \"job\": \"Reliability Engineer\", \"prob\": 0.002891951967787276}, {\"rank\": 30, \"job\": \"Android Developer\", \"prob\": 0.0022968156659740695}, {\"rank\": 31, \"job\": \"Marketing Manager\", \"prob\": 0.002093306867141306}, {\"rank\": 32, \"job\": \"Quality Engineer\", \"prob\": 0.0020844813701415884}, {\"rank\": 33, \"job\": \"Machinist\", \"prob\": 0.001993256873792863}, {\"rank\": 34, \"job\": \"Utility Worker\", \"prob\": 0.001993152333702504}, {\"rank\": 35, \"job\": \"Tooling Engineer\", \"prob\": 0.0017791786942884828}, {\"rank\": 36, \"job\": \"Electronics Technician\", \"prob\": 0.0016658638170065727}, {\"rank\": 37, \"job\": \"End Web Developer\", \"prob\": 0.0014760548192264509}, {\"rank\": 38, \"job\": \"Test Engineer\", \"prob\": 0.0014132576681438421}, {\"rank\": 39, \"job\": \"Barista\", \"prob\": 0.0013614270629223795}, {\"rank\": 40, \"job\": \"Validation Engineer\", \"prob\": 0.0012670724070212047}, {\"rank\": 41, \"job\": \"Woodworkers\", \"prob\": 0.0012613480898097538}, {\"rank\": 42, \"job\": \"Structural Engineer\", \"prob\": 0.0012432527206193388}, {\"rank\": 43, \"job\": \"Veterinary\", \"prob\": 0.0012258191360745739}, {\"rank\": 44, \"job\": \"Sheet Metal Worker\", \"prob\": 0.0012228888392122603}, {\"rank\": 45, \"job\": \"Illustrator\", \"prob\": 0.0012095503228758205}, {\"rank\": 46, \"job\": \"Electrician\", \"prob\": 0.0011989999379878192}, {\"rank\": 47, \"job\": \"Java Developer\", \"prob\": 0.0011873158750285513}, {\"rank\": 48, \"job\": \"Software Developer\", \"prob\": 0.0011285723693288193}, {\"rank\": 49, \"job\": \"CNC Programmer\", \"prob\": 0.0010653139230088061}, {\"rank\": 50, \"job\": \"Editor\", \"prob\": 0.000984845323787752}, {\"rank\": 51, \"job\": \"Network Architect\", \"prob\": 0.0009222251031639791}, {\"rank\": 52, \"job\": \"Manufacturing Engineer\", \"prob\": 0.0009106412021663017}, {\"rank\": 53, \"job\": \"IT Manager\", \"prob\": 0.0008632373713412064}, {\"rank\": 54, \"job\": \"QA Tester\", \"prob\": 0.0008603539331419747}, {\"rank\": 55, \"job\": \"Dj\", \"prob\": 0.0008515010820553337}, {\"rank\": 56, \"job\": \"Quality Control Inspector\", \"prob\": 0.0008456611418190977}, {\"rank\": 57, \"job\": \"QA Analyst\", \"prob\": 0.0008040308634006832}, {\"rank\": 58, \"job\": \"Technician\", \"prob\": 0.0008032108861919309}, {\"rank\": 59, \"job\": \"Quality Control Technician\", \"prob\": 0.0008001947989914895}, {\"rank\": 60, \"job\": \"Web Designer\", \"prob\": 0.0007910940891854286}, {\"rank\": 61, \"job\": \"Inspector\", \"prob\": 0.0007908940456223318}, {\"rank\": 62, \"job\": \"Field Service Technician\", \"prob\": 0.0007809476545505281}, {\"rank\": 63, \"job\": \"Network Engineer\", \"prob\": 0.0007780733108269267}, {\"rank\": 64, \"job\": \"Bookkeeper\", \"prob\": 0.0007385492700617775}, {\"rank\": 65, \"job\": \"Painter\", \"prob\": 0.0007348704697255646}, {\"rank\": 66, \"job\": \"Webmaster\", \"prob\": 0.0007285821467958651}, {\"rank\": 67, \"job\": \"Software Tester\", \"prob\": 0.0007219311645103029}, {\"rank\": 68, \"job\": \"Welder\", \"prob\": 0.0007196796893474568}, {\"rank\": 69, \"job\": \"Office Administrator\", \"prob\": 0.0006848959968932725}, {\"rank\": 70, \"job\": \"National Sales Manager\", \"prob\": 0.0006842326876678554}, {\"rank\": 71, \"job\": \"Paralegal\", \"prob\": 0.0006814588878917997}, {\"rank\": 72, \"job\": \"Forklift Operator\", \"prob\": 0.0006797471213470721}, {\"rank\": 73, \"job\": \"Quality Analyst\", \"prob\": 0.0006517809049818069}, {\"rank\": 74, \"job\": \"Data Entry Clerk\", \"prob\": 0.0006328244372680892}, {\"rank\": 75, \"job\": \"Laboratory Technician\", \"prob\": 0.0005929943768129912}, {\"rank\": 76, \"job\": \"Quality Inspector\", \"prob\": 0.0005786215183590153}, {\"rank\": 77, \"job\": \"Intelligence Analyst\", \"prob\": 0.0005646257868561899}, {\"rank\": 78, \"job\": \"Preschool Teacher\", \"prob\": 0.000557016690194142}, {\"rank\": 79, \"job\": \"HRIS Analyst\", \"prob\": 0.0005539769402042951}, {\"rank\": 80, \"job\": \"Radiology Technologist\", \"prob\": 0.0005513570129614}, {\"rank\": 81, \"job\": \"Janitor\", \"prob\": 0.0005153424459444613}, {\"rank\": 82, \"job\": \"Early Childhood Teacher\", \"prob\": 0.0004881253976728337}, {\"rank\": 83, \"job\": \"Loan Officer\", \"prob\": 0.00045944219755122067}, {\"rank\": 84, \"job\": \"Ironworker\", \"prob\": 0.0004580501471091107}, {\"rank\": 85, \"job\": \"Social Worker\", \"prob\": 0.0004303975809554222}, {\"rank\": 86, \"job\": \"Training Coordinator\", \"prob\": 0.00040687252183156983}, {\"rank\": 87, \"job\": \"Special Education Teacher\", \"prob\": 0.0003928083879096539}, {\"rank\": 88, \"job\": \"HR Coordinator\", \"prob\": 0.0003874917324078757}, {\"rank\": 89, \"job\": \"GIS Analyst\", \"prob\": 0.0003787843167321362}, {\"rank\": 90, \"job\": \"Tutor\", \"prob\": 0.00037625449963641375}, {\"rank\": 91, \"job\": \"Computer Technician\", \"prob\": 0.00035831829296628794}, {\"rank\": 92, \"job\": \"Groundskeeper\", \"prob\": 0.0003557365464465422}, {\"rank\": 93, \"job\": \"Safety Manager\", \"prob\": 0.00035037320465705976}, {\"rank\": 94, \"job\": \"Director Of Operations\", \"prob\": 0.0003499767169240361}, {\"rank\": 95, \"job\": \"Teacher\", \"prob\": 0.0003468895869340289}, {\"rank\": 96, \"job\": \"Financial Controller\", \"prob\": 0.0003242842529398462}, {\"rank\": 97, \"job\": \"Welder Fabricator\", \"prob\": 0.000314643674436476}, {\"rank\": 98, \"job\": \"Yard Worker\", \"prob\": 0.00031219769556098046}, {\"rank\": 99, \"job\": \"Graphic Designer\", \"prob\": 0.0002824807218472711}, {\"rank\": 100, \"job\": \"Bank Reconciliation \", \"prob\": 0.0002688001719516392}, {\"rank\": 101, \"job\": \"HR Specialist\", \"prob\": 0.0002684114166866789}, {\"rank\": 102, \"job\": \"Translator\", \"prob\": 0.00026458936673990523}, {\"rank\": 103, \"job\": \"Facilities Manager\", \"prob\": 0.00026411015060846246}, {\"rank\": 104, \"job\": \"Librarian\", \"prob\": 0.000261545110497996}, {\"rank\": 105, \"job\": \"Veterinary Technician\", \"prob\": 0.0002561641983834177}, {\"rank\": 106, \"job\": \"Wireless Engineer\", \"prob\": 0.00025498688174587164}, {\"rank\": 107, \"job\": \"Travel Agent\", \"prob\": 0.0002502041402858551}, {\"rank\": 108, \"job\": \"Aerospace Engineer \", \"prob\": 0.000249991166834103}, {\"rank\": 109, \"job\": \"Piping Designer\", \"prob\": 0.0002486871789519888}, {\"rank\": 110, \"job\": \"Visual Merchandiser\", \"prob\": 0.0002478927144764543}, {\"rank\": 111, \"job\": \"Financial Analyst \", \"prob\": 0.00024447452546256046}, {\"rank\": 112, \"job\": \"Dietitian\", \"prob\": 0.00024300503400910258}, {\"rank\": 113, \"job\": \"Automotive Technician\", \"prob\": 0.00023841601471880232}, {\"rank\": 114, \"job\": \"Ultrasound Technologist\", \"prob\": 0.00023145711689367987}, {\"rank\": 115, \"job\": \"Proofreader\", \"prob\": 0.0002270728454756464}, {\"rank\": 116, \"job\": \"Life Coach\", \"prob\": 0.0002162448208420449}, {\"rank\": 117, \"job\": \"Farm Worker\", \"prob\": 0.00021309485063269218}, {\"rank\": 118, \"job\": \"Millwright\", \"prob\": 0.0002105300763244617}, {\"rank\": 119, \"job\": \"Geotechnical Engineer\", \"prob\": 0.0002086674097538536}, {\"rank\": 120, \"job\": \"Bus Driver\", \"prob\": 0.00020846835031800994}, {\"rank\": 121, \"job\": \"Information Security Analyst\", \"prob\": 0.00020011272373136844}, {\"rank\": 122, \"job\": \"Phlebotomist\", \"prob\": 0.00019953112661963304}, {\"rank\": 123, \"job\": \"OSP Engineer\", \"prob\": 0.00019092787185258337}, {\"rank\": 124, \"job\": \"Insurance Agent\", \"prob\": 0.00018510439744947793}, {\"rank\": 125, \"job\": \"Interior Designer\", \"prob\": 0.00017723935308512376}, {\"rank\": 126, \"job\": \"Event Coordinator\", \"prob\": 0.000174660733864542}, {\"rank\": 127, \"job\": \"Welding Engineer\", \"prob\": 0.0001746443478629802}, {\"rank\": 128, \"job\": \"Digital Marketing Manager\", \"prob\": 0.00017460186789183352}, {\"rank\": 129, \"job\": \"User Interface Designer\", \"prob\": 0.0001678541093969101}, {\"rank\": 130, \"job\": \"Office Clerk\", \"prob\": 0.00016700555242438943}, {\"rank\": 131, \"job\": \"Warehouse Operations Manager\", \"prob\": 0.00016535649237130185}, {\"rank\": 132, \"job\": \"Optometrist\", \"prob\": 0.00016250247141919223}, {\"rank\": 133, \"job\": \"Recruiter \", \"prob\": 0.00016148984264360969}, {\"rank\": 134, \"job\": \"Event Planner\", \"prob\": 0.00016143751910409552}, {\"rank\": 135, \"job\": \"Photographer\", \"prob\": 0.00016142981253955}, {\"rank\": 136, \"job\": \"Release Manager\", \"prob\": 0.00016063769228326605}, {\"rank\": 137, \"job\": \"Bank Teller\", \"prob\": 0.00015792228394803312}, {\"rank\": 138, \"job\": \"Refrigeration Technician\", \"prob\": 0.00015454253960281528}, {\"rank\": 139, \"job\": \"Noc Technician\", \"prob\": 0.00015396016686524197}, {\"rank\": 140, \"job\": \"SAS Programmer\", \"prob\": 0.00015360512396209606}, {\"rank\": 141, \"job\": \"Auto Mechanic\", \"prob\": 0.00015333473636477412}, {\"rank\": 142, \"job\": \"Quality Technician\", \"prob\": 0.00015028735289885752}, {\"rank\": 143, \"job\": \"Operations Research Analyst\", \"prob\": 0.0001491202016855625}, {\"rank\": 144, \"job\": \"Land Surveyor\", \"prob\": 0.0001462226651000322}, {\"rank\": 145, \"job\": \"Medical Coder\", \"prob\": 0.00014275506349128788}, {\"rank\": 146, \"job\": \"Youth Programs Social Worker\", \"prob\": 0.00014014047665373964}, {\"rank\": 147, \"job\": \"Director Of Construction\", \"prob\": 0.00013694004711727327}, {\"rank\": 148, \"job\": \"Network Technician\", \"prob\": 0.00013472577041802886}, {\"rank\": 149, \"job\": \"Attorney\", \"prob\": 0.00013445235873502212}, {\"rank\": 150, \"job\": \"Massage Therapist\", \"prob\": 0.00013038070502600682}, {\"rank\": 151, \"job\": \"Veterinarian\", \"prob\": 0.00012727926060483746}, {\"rank\": 152, \"job\": \"Network Operations Manager\", \"prob\": 0.00012438175519688565}, {\"rank\": 153, \"job\": \"LPN\", \"prob\": 0.0001242102818970972}, {\"rank\": 154, \"job\": \"Fraud Investigator\", \"prob\": 0.00012180939773522907}, {\"rank\": 155, \"job\": \"HVAC Engineer\", \"prob\": 0.0001214509809849461}, {\"rank\": 156, \"job\": \"Kinesiology\", \"prob\": 0.00012030242776793814}, {\"rank\": 157, \"job\": \"Esthetician\", \"prob\": 0.0001195068722509252}, {\"rank\": 158, \"job\": \"Electronics Engineer\", \"prob\": 0.00011740998038557147}, {\"rank\": 159, \"job\": \"Personal Trainer\", \"prob\": 0.0001112859175455542}, {\"rank\": 160, \"job\": \"IT Director\", \"prob\": 0.000110070519395837}, {\"rank\": 161, \"job\": \"Security Guard\", \"prob\": 0.00010752494033105787}, {\"rank\": 162, \"job\": \"Proposal Manager\", \"prob\": 0.00010680188359517646}, {\"rank\": 163, \"job\": \"Chef\", \"prob\": 0.000105912103135283}, {\"rank\": 164, \"job\": \"Licensed Practical Nurse\", \"prob\": 0.00010521607894755168}, {\"rank\": 165, \"job\": \"Civil Engineer\", \"prob\": 0.00010226040780300081}, {\"rank\": 166, \"job\": \"Retail Manager\", \"prob\": 9.53984747214619e-05}, {\"rank\": 167, \"job\": \"Security Officer\", \"prob\": 9.310304586576701e-05}, {\"rank\": 168, \"job\": \"Dentist\", \"prob\": 9.235153463526337e-05}, {\"rank\": 169, \"job\": \"IT Auditor\", \"prob\": 9.207840255862293e-05}, {\"rank\": 170, \"job\": \"CPA\", \"prob\": 9.084619253191674e-05}, {\"rank\": 171, \"job\": \"Kitchen Manager\", \"prob\": 9.043787997880134e-05}, {\"rank\": 172, \"job\": \"Business Development Manager\", \"prob\": 8.983273837239307e-05}, {\"rank\": 173, \"job\": \"Recruiting Coordinator\", \"prob\": 8.465900016447885e-05}, {\"rank\": 174, \"job\": \"Financial Planner\", \"prob\": 8.233841739404425e-05}, {\"rank\": 175, \"job\": \"Pharmacist\", \"prob\": 8.118199823314639e-05}, {\"rank\": 176, \"job\": \"CFO \", \"prob\": 8.001701179634978e-05}, {\"rank\": 177, \"job\": \"Transportation Manager\", \"prob\": 7.717238233994696e-05}, {\"rank\": 178, \"job\": \"Logistics Manager\", \"prob\": 7.707216654108451e-05}, {\"rank\": 179, \"job\": \"Landscape Architect\", \"prob\": 7.471482150756211e-05}, {\"rank\": 180, \"job\": \"Legal Secretary\", \"prob\": 7.322709755757183e-05}, {\"rank\": 181, \"job\": \"Merchandiser\", \"prob\": 6.976140261429367e-05}, {\"rank\": 182, \"job\": \"Human Resources Manager\", \"prob\": 6.823353484681017e-05}, {\"rank\": 183, \"job\": \"Executive Chef\", \"prob\": 6.528988012694542e-05}, {\"rank\": 184, \"job\": \"Dental Hygienist\", \"prob\": 6.510231264124922e-05}, {\"rank\": 185, \"job\": \"Locksmith\", \"prob\": 5.998822676831931e-05}, {\"rank\": 186, \"job\": \"Billing Specialist\", \"prob\": 5.583075320599966e-05}, {\"rank\": 187, \"job\": \"Tower Climber\", \"prob\": 5.185998230576062e-05}, {\"rank\": 188, \"job\": \"Tanker Driver\", \"prob\": 5.067220528987915e-05}, {\"rank\": 189, \"job\": \"Nail Technician\", \"prob\": 5.056244849521417e-05}, {\"rank\": 190, \"job\": \"Medical Scribe\", \"prob\": 4.8468481059700115e-05}, {\"rank\": 191, \"job\": \"Food Scientist\", \"prob\": 4.769902868059904e-05}, {\"rank\": 192, \"job\": \"Project Manager\", \"prob\": 4.5431142349051904e-05}, {\"rank\": 193, \"job\": \"Grant Accountant \", \"prob\": 4.4461154204527884e-05}, {\"rank\": 194, \"job\": \"Telecommunications Technician\", \"prob\": 4.303672905850795e-05}, {\"rank\": 195, \"job\": \"Firefighter\", \"prob\": 4.2762725185190755e-05}, {\"rank\": 196, \"job\": \"Funeral Director\", \"prob\": 4.237620348091607e-05}, {\"rank\": 197, \"job\": \"Epidemiologist\", \"prob\": 4.1793667747101825e-05}, {\"rank\": 198, \"job\": \"Market Research Analyst\", \"prob\": 4.051335598765493e-05}, {\"rank\": 199, \"job\": \"Training Consultant\", \"prob\": 4.040222102252451e-05}, {\"rank\": 200, \"job\": \"HVAC Installer\", \"prob\": 3.972633614135859e-05}, {\"rank\": 201, \"job\": \"Quality Control Analyst\", \"prob\": 3.9693007124483696e-05}, {\"rank\": 202, \"job\": \"Ophthalmic Technician\", \"prob\": 3.930221477870324e-05}, {\"rank\": 203, \"job\": \"Real Estate Paralegal\", \"prob\": 3.9107151504105e-05}, {\"rank\": 204, \"job\": \"Fleet Manager\", \"prob\": 3.850755496359557e-05}, {\"rank\": 205, \"job\": \"Underwriter\", \"prob\": 3.816773927893594e-05}, {\"rank\": 206, \"job\": \"General Manager\", \"prob\": 3.7709435353733974e-05}, {\"rank\": 207, \"job\": \"LVN\", \"prob\": 3.756237561468425e-05}, {\"rank\": 208, \"job\": \"User Experience Designer\", \"prob\": 3.7398005539093364e-05}, {\"rank\": 209, \"job\": \"Yard Jockey\", \"prob\": 3.733066524746217e-05}, {\"rank\": 210, \"job\": \"Financial Manager\", \"prob\": 3.7202282244147556e-05}, {\"rank\": 211, \"job\": \"Wellness Coach\", \"prob\": 3.70228984815105e-05}, {\"rank\": 212, \"job\": \"Optician\", \"prob\": 3.6851523435969194e-05}, {\"rank\": 213, \"job\": \"Finance Director\", \"prob\": 3.6502940970593006e-05}, {\"rank\": 214, \"job\": \"Graphic Artist\", \"prob\": 3.612657106070615e-05}, {\"rank\": 215, \"job\": \"Brand Ambassador\", \"prob\": 3.562204426808599e-05}, {\"rank\": 216, \"job\": \"Flight Attendant\", \"prob\": 3.505475939377167e-05}, {\"rank\": 217, \"job\": \"Insurance Investigator\", \"prob\": 3.2030275795427216e-05}, {\"rank\": 218, \"job\": \"Infrastructure Project Manager\", \"prob\": 3.1817855333366977e-05}, {\"rank\": 219, \"job\": \"Logistics Specialist\", \"prob\": 3.1686721799126526e-05}, {\"rank\": 220, \"job\": \"Universal Banker\", \"prob\": 3.165171509449059e-05}, {\"rank\": 221, \"job\": \"Technical Sales Engineer\", \"prob\": 3.118111678088396e-05}, {\"rank\": 222, \"job\": \"Microbiologist\", \"prob\": 2.95202134302362e-05}, {\"rank\": 223, \"job\": \"Police Officer\", \"prob\": 2.888230162198889e-05}, {\"rank\": 224, \"job\": \"National Account Manager\", \"prob\": 2.848736897873835e-05}, {\"rank\": 225, \"job\": \"Environmental Scientist\", \"prob\": 2.8386610257894462e-05}, {\"rank\": 226, \"job\": \"Geologist\", \"prob\": 2.7389331453101963e-05}, {\"rank\": 227, \"job\": \"Biologist\", \"prob\": 2.5498407120549318e-05}, {\"rank\": 228, \"job\": \"Criminal Investigator\", \"prob\": 2.3322683334171584e-05}, {\"rank\": 229, \"job\": \"Leasing Consultant\", \"prob\": 2.2939550469458338e-05}, {\"rank\": 230, \"job\": \"Medical Technologist\", \"prob\": 2.2245394985743174e-05}, {\"rank\": 231, \"job\": \"Supply Chain Manager\", \"prob\": 2.192147057678668e-05}, {\"rank\": 232, \"job\": \"Instrument Technician\", \"prob\": 2.134980038733889e-05}, {\"rank\": 233, \"job\": \"Private Investigator\", \"prob\": 1.6696181150970354e-05}, {\"rank\": 234, \"job\": \"Accounts Payable Manager\", \"prob\": 1.536141092427466e-05}, {\"rank\": 235, \"job\": \"Sales Manager\", \"prob\": 1.3423445025987439e-05}, {\"rank\": 236, \"job\": \"Retail Merchandiser\", \"prob\": 1.2595629947143576e-05}, {\"rank\": 237, \"job\": \"Applications Manager\", \"prob\": 1.0593771927358319e-05}, {\"rank\": 238, \"job\": \"Operations Supervisor\", \"prob\": 8.931278730149638e-06}, {\"rank\": 239, \"job\": \"Accountant\", \"prob\": 6.020349709231446e-06}]}'"
      ]
     },
     "execution_count": 14,
     "metadata": {},
     "output_type": "execute_result"
    }
   ],
   "source": [
    "json.dumps(responses)"
   ]
  },
  {
   "cell_type": "markdown",
   "metadata": {},
   "source": [
    "##### FORMAT 1"
   ]
  },
  {
   "cell_type": "code",
   "execution_count": 15,
   "metadata": {},
   "outputs": [],
   "source": [
    "result_dict = {}\n",
    "for key, val, in zip(y_class, pred_prob):\n",
    "    result_dict[key] = val"
   ]
  },
  {
   "cell_type": "code",
   "execution_count": 16,
   "metadata": {},
   "outputs": [],
   "source": [
    "sorted_result = sorted(result_dict.items(), key=lambda x: x[1], reverse=True)"
   ]
  },
  {
   "cell_type": "code",
   "execution_count": 25,
   "metadata": {},
   "outputs": [
    {
     "data": {
      "text/plain": [
       "'[[\"Data Scientist\", 0.28147724748799013], [\"Data Analyst\", 0.2120212331540459], [\"Business Analyst\", 0.1201267330399222], [\"Solution Architect\", 0.04030680067200857], [\"Quantitative Developer\", 0.02836807540103587]]'"
      ]
     },
     "execution_count": 25,
     "metadata": {},
     "output_type": "execute_result"
    }
   ],
   "source": [
    "json.dumps(sorted_result[:5])"
   ]
  },
  {
   "cell_type": "markdown",
   "metadata": {},
   "source": [
    "##### FORMAT 2"
   ]
  },
  {
   "cell_type": "code",
   "execution_count": 18,
   "metadata": {},
   "outputs": [],
   "source": [
    "pred_job_list = []\n",
    "pred_prob_lsit = []\n",
    "\n",
    "for key, val in zip(y_class, pred_prob):\n",
    "    pred_job_list.append(key)\n",
    "    pred_prob_lsit.append(val)"
   ]
  },
  {
   "cell_type": "code",
   "execution_count": 19,
   "metadata": {},
   "outputs": [],
   "source": [
    "pred_result = {}\n",
    "pred_result['job'] = pred_job_list\n",
    "pred_result['prob'] = pred_prob_lsit"
   ]
  },
  {
   "cell_type": "code",
   "execution_count": 27,
   "metadata": {},
   "outputs": [
    {
     "data": {
      "text/plain": [
       "'{\"job\": [\"Accountant\", \"Accounts Payable Manager\", \"Aerospace Engineer \", \"Android Developer\", \"Applications Manager\", \"Attorney\", \"Auto Mechanic\", \"Automation Engineer\", \"Automotive Technician\", \"Bank Reconciliation \", \"Bank Teller\", \"Barista\", \"Billing Specialist\", \"Biologist\", \"Bookkeeper\", \"Brand Ambassador\", \"Bus Driver\", \"Business Analyst\", \"Business Development Manager\", \"CFO \", \"CNC Programmer\", \"CPA\", \"Chef\", \"Civil Engineer\", \"Computer Programmer\", \"Computer Technician\", \"Criminal Investigator\", \"Data Analyst\", \"Data Entry Clerk\", \"Data Scientist\", \"Dental Hygienist\", \"Dentist\", \"Dietitian\", \"Digital Marketing Manager\", \"Director Of Construction\", \"Director Of Engineering\", \"Director Of Operations\", \"Dj\", \"Early Childhood Teacher\", \"Editor\", \"Electrical Engineer\", \"Electrician\", \"Electronics Engineer\", \"Electronics Technician\", \"End Web Developer\", \"Environmental Scientist\", \"Epidemiologist\", \"Esthetician\", \"Event Coordinator\", \"Event Planner\", \"Executive Chef\", \"Facilities Manager\", \"Farm Worker\", \"Field Service Technician\", \"Finance Director\", \"Financial Analyst \", \"Financial Controller\", \"Financial Manager\", \"Financial Planner\", \"Firefighter\", \"Fleet Manager\", \"Flight Attendant\", \"Food Scientist\", \"Forklift Operator\", \"Fraud Investigator\", \"Funeral Director\", \"GIS Analyst\", \"General Manager\", \"Geologist\", \"Geotechnical Engineer\", \"Grant Accountant \", \"Graphic Artist\", \"Graphic Designer\", \"Groundskeeper\", \"HR Coordinator\", \"HR Specialist\", \"HRIS Analyst\", \"HVAC Engineer\", \"HVAC Installer\", \"Historian\", \"Human Resources Manager\", \"IT Auditor\", \"IT Business Analyst\", \"IT Director\", \"IT Manager\", \"Illustrator\", \"Information Security Analyst\", \"Infrastructure Project Manager\", \"Inspector\", \"Instructional Designer\", \"Instrument Technician\", \"Insurance Agent\", \"Insurance Investigator\", \"Intelligence Analyst\", \"Interior Designer\", \"Ironworker\", \"Janitor\", \"Java Developer\", \"Kinesiology\", \"Kitchen Manager\", \"LPN\", \"LVN\", \"Laboratory Technician\", \"Land Surveyor\", \"Landscape Architect\", \"Leasing Consultant\", \"Legal Secretary\", \"Librarian\", \"Licensed Practical Nurse\", \"Life Coach\", \"Loan Officer\", \"Locksmith\", \"Logistics Manager\", \"Logistics Specialist\", \"Machinist\", \"Manufacturing Engineer\", \"Market Research Analyst\", \"Marketing Manager\", \"Massage Therapist\", \"Mechanical Engineer \", \"Medical Coder\", \"Medical Scribe\", \"Medical Technologist\", \"Merchandiser\", \"Microbiologist\", \"Millwright\", \"Miner \", \"Nail Technician\", \"National Account Manager\", \"National Sales Manager\", \"Network Administrator\", \"Network Architect\", \"Network Engineer\", \"Network Operations Manager\", \"Network Technician\", \"Noc Technician\", \"OSP Engineer\", \"Office Administrator\", \"Office Clerk\", \"Operations Research Analyst\", \"Operations Supervisor\", \"Ophthalmic Technician\", \"Optical Engineer\", \"Optician\", \"Optometrist\", \"Painter\", \"Paralegal\", \"Personal Trainer\", \"Pharmacist\", \"Phlebotomist\", \"Photographer\", \"Piping Designer\", \"Plumber\", \"Police Officer\", \"Preschool Teacher\", \"Private Investigator\", \"Project Manager\", \"Proofreader\", \"Proposal Manager\", \"QA Analyst\", \"QA Engineer\", \"QA Tester\", \"Quality Analyst\", \"Quality Control Analyst\", \"Quality Control Inspector\", \"Quality Control Technician\", \"Quality Engineer\", \"Quality Inspector\", \"Quality Technician\", \"Quantitative Analyst\", \"Quantitative Developer\", \"RF Engineer\", \"Radiology Technologist\", \"Real Estate Paralegal\", \"Recruiter \", \"Recruiting Coordinator\", \"Refrigeration Technician\", \"Release Manager\", \"Reliability Engineer\", \"Research Analyst\", \"Research Scientist\", \"Restaurant Manager\", \"Retail Manager\", \"Retail Merchandiser\", \"SAS Programmer\", \"Safety Manager\", \"Sales Manager\", \"Security Guard\", \"Security Officer\", \"Sheet Metal Worker\", \"Social Worker\", \"Software Developer\", \"Software Tester\", \"Solution Architect\", \"Special Education Teacher\", \"Statistician\", \"Structural Engineer\", \"Supply Chain Manager\", \"Tanker Driver\", \"Teacher\", \"Technical Sales Engineer\", \"Technical Writer\", \"Technician\", \"Telecommunications Technician\", \"Test Engineer\", \"Tooling Engineer\", \"Tower Climber\", \"Training Consultant\", \"Training Coordinator\", \"Translator\", \"Transportation Manager\", \"Travel Agent\", \"Tutor\", \"Ultrasound Technologist\", \"Underwriter\", \"Universal Banker\", \"User Experience Designer\", \"User Experience Researcher\", \"User Interface Designer\", \"Utility Worker\", \"Validation Engineer\", \"Verification Engineer\", \"Veterinarian\", \"Veterinary\", \"Veterinary Technician\", \"Visual Merchandiser\", \"Warehouse Operations Manager\", \"Web Designer\", \"Web Developer\", \"Webmaster\", \"Welder\", \"Welder Fabricator\", \"Welding Engineer\", \"Wellness Coach\", \"Wireless Engineer\", \"Woodworkers\", \"Yard Jockey\", \"Yard Worker\", \"Youth Programs Social Worker\"], \"prob\": [6.020349709231446e-06, 1.536141092427466e-05, 0.000249991166834103, 0.0022968156659740695, 1.0593771927358319e-05, 0.00013445235873502212, 0.00015333473636477412, 0.021804659303114295, 0.00023841601471880232, 0.0002688001719516392, 0.00015792228394803312, 0.0013614270629223795, 5.583075320599966e-05, 2.5498407120549318e-05, 0.0007385492700617775, 3.562204426808599e-05, 0.00020846835031800994, 0.1201267330399222, 8.983273837239307e-05, 8.001701179634978e-05, 0.0010653139230088061, 9.084619253191674e-05, 0.000105912103135283, 0.00010226040780300081, 0.009878521337361418, 0.00035831829296628794, 2.3322683334171584e-05, 0.2120212331540459, 0.0006328244372680892, 0.28147724748799013, 6.510231264124922e-05, 9.235153463526337e-05, 0.00024300503400910258, 0.00017460186789183352, 0.00013694004711727327, 0.015660066611118604, 0.0003499767169240361, 0.0008515010820553337, 0.0004881253976728337, 0.000984845323787752, 0.006865446957564361, 0.0011989999379878192, 0.00011740998038557147, 0.0016658638170065727, 0.0014760548192264509, 2.8386610257894462e-05, 4.1793667747101825e-05, 0.0001195068722509252, 0.000174660733864542, 0.00016143751910409552, 6.528988012694542e-05, 0.00026411015060846246, 0.00021309485063269218, 0.0007809476545505281, 3.6502940970593006e-05, 0.00024447452546256046, 0.0003242842529398462, 3.7202282244147556e-05, 8.233841739404425e-05, 4.2762725185190755e-05, 3.850755496359557e-05, 3.505475939377167e-05, 4.769902868059904e-05, 0.0006797471213470721, 0.00012180939773522907, 4.237620348091607e-05, 0.0003787843167321362, 3.7709435353733974e-05, 2.7389331453101963e-05, 0.0002086674097538536, 4.4461154204527884e-05, 3.612657106070615e-05, 0.0002824807218472711, 0.0003557365464465422, 0.0003874917324078757, 0.0002684114166866789, 0.0005539769402042951, 0.0001214509809849461, 3.972633614135859e-05, 0.004013094276571871, 6.823353484681017e-05, 9.207840255862293e-05, 0.008343710146618081, 0.000110070519395837, 0.0008632373713412064, 0.0012095503228758205, 0.00020011272373136844, 3.1817855333366977e-05, 0.0007908940456223318, 0.010673366194983982, 2.134980038733889e-05, 0.00018510439744947793, 3.2030275795427216e-05, 0.0005646257868561899, 0.00017723935308512376, 0.0004580501471091107, 0.0005153424459444613, 0.0011873158750285513, 0.00012030242776793814, 9.043787997880134e-05, 0.0001242102818970972, 3.756237561468425e-05, 0.0005929943768129912, 0.0001462226651000322, 7.471482150756211e-05, 2.2939550469458338e-05, 7.322709755757183e-05, 0.000261545110497996, 0.00010521607894755168, 0.0002162448208420449, 0.00045944219755122067, 5.998822676831931e-05, 7.707216654108451e-05, 3.1686721799126526e-05, 0.001993256873792863, 0.0009106412021663017, 4.051335598765493e-05, 0.002093306867141306, 0.00013038070502600682, 0.004770155799572899, 0.00014275506349128788, 4.8468481059700115e-05, 2.2245394985743174e-05, 6.976140261429367e-05, 2.95202134302362e-05, 0.0002105300763244617, 0.020384632447473395, 5.056244849521417e-05, 2.848736897873835e-05, 0.0006842326876678554, 0.0035149154393075387, 0.0009222251031639791, 0.0007780733108269267, 0.00012438175519688565, 0.00013472577041802886, 0.00015396016686524197, 0.00019092787185258337, 0.0006848959968932725, 0.00016700555242438943, 0.0001491202016855625, 8.931278730149638e-06, 3.930221477870324e-05, 0.00425652627895939, 3.6851523435969194e-05, 0.00016250247141919223, 0.0007348704697255646, 0.0006814588878917997, 0.0001112859175455542, 8.118199823314639e-05, 0.00019953112661963304, 0.00016142981253955, 0.0002486871789519888, 0.021480847359805072, 2.888230162198889e-05, 0.000557016690194142, 1.6696181150970354e-05, 4.5431142349051904e-05, 0.0002270728454756464, 0.00010680188359517646, 0.0008040308634006832, 0.012777082435627954, 0.0008603539331419747, 0.0006517809049818069, 3.9693007124483696e-05, 0.0008456611418190977, 0.0008001947989914895, 0.0020844813701415884, 0.0005786215183590153, 0.00015028735289885752, 0.005639881501319221, 0.02836807540103587, 0.017279699251549076, 0.0005513570129614, 3.9107151504105e-05, 0.00016148984264360969, 8.465900016447885e-05, 0.00015454253960281528, 0.00016063769228326605, 0.002891951967787276, 0.016702440175178947, 0.015519215358830697, 0.007677189854270094, 9.53984747214619e-05, 1.2595629947143576e-05, 0.00015360512396209606, 0.00035037320465705976, 1.3423445025987439e-05, 0.00010752494033105787, 9.310304586576701e-05, 0.0012228888392122603, 0.0004303975809554222, 0.0011285723693288193, 0.0007219311645103029, 0.04030680067200857, 0.0003928083879096539, 0.0077637370560115875, 0.0012432527206193388, 2.192147057678668e-05, 5.067220528987915e-05, 0.0003468895869340289, 3.118111678088396e-05, 0.008006727126042876, 0.0008032108861919309, 4.303672905850795e-05, 0.0014132576681438421, 0.0017791786942884828, 5.185998230576062e-05, 4.040222102252451e-05, 0.00040687252183156983, 0.00026458936673990523, 7.717238233994696e-05, 0.0002502041402858551, 0.00037625449963641375, 0.00023145711689367987, 3.816773927893594e-05, 3.165171509449059e-05, 3.7398005539093364e-05, 0.003100863843012197, 0.0001678541093969101, 0.001993152333702504, 0.0012670724070212047, 0.007180632230819411, 0.00012727926060483746, 0.0012258191360745739, 0.0002561641983834177, 0.0002478927144764543, 0.00016535649237130185, 0.0007910940891854286, 0.006180433905121656, 0.0007285821467958651, 0.0007196796893474568, 0.000314643674436476, 0.0001746443478629802, 3.70228984815105e-05, 0.00025498688174587164, 0.0012613480898097538, 3.733066524746217e-05, 0.00031219769556098046, 0.00014014047665373964]}'"
      ]
     },
     "execution_count": 27,
     "metadata": {},
     "output_type": "execute_result"
    }
   ],
   "source": [
    "json.dumps(pred_result)"
   ]
  }
 ],
 "metadata": {
  "kernelspec": {
   "display_name": "Python 3 (ipykernel)",
   "language": "python",
   "name": "python3"
  },
  "language_info": {
   "codemirror_mode": {
    "name": "ipython",
    "version": 3
   },
   "file_extension": ".py",
   "mimetype": "text/x-python",
   "name": "python",
   "nbconvert_exporter": "python",
   "pygments_lexer": "ipython3",
   "version": "3.7.6"
  }
 },
 "nbformat": 4,
 "nbformat_minor": 2
}
