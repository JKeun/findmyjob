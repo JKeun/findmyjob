{
 "cells": [
  {
   "cell_type": "markdown",
   "metadata": {},
   "source": [
    "### LOAD DATA"
   ]
  },
  {
   "cell_type": "code",
   "execution_count": 1,
   "metadata": {},
   "outputs": [
    {
     "name": "stdout",
     "output_type": "stream",
     "text": [
      "15154 377\n",
      "14574 239\n"
     ]
    }
   ],
   "source": [
    "import pandas as pd\n",
    "import numpy as np\n",
    "\n",
    "df = pd.read_csv(\"../data/train.csv\")\n",
    "print(len(df), len(df['job_title'].unique()))\n",
    "\n",
    "job_count = df.groupby('job_title').size()\n",
    "df = df.replace(job_count[job_count < 10].index, np.nan)\n",
    "df = df.dropna()\n",
    "df = df.reset_index(drop=True)\n",
    "print(len(df), len(df['job_title'].unique()))"
   ]
  },
  {
   "cell_type": "markdown",
   "metadata": {},
   "source": [
    "### TEXT PREPROCESSING"
   ]
  },
  {
   "cell_type": "code",
   "execution_count": 2,
   "metadata": {},
   "outputs": [],
   "source": [
    "from sklearn.preprocessing import LabelEncoder\n",
    "\n",
    "le = LabelEncoder()\n",
    "y = le.fit_transform(df['job_title'])\n",
    "y_class = le.classes_\n",
    "X = df['description'].values"
   ]
  },
  {
   "cell_type": "code",
   "execution_count": 3,
   "metadata": {},
   "outputs": [
    {
     "name": "stderr",
     "output_type": "stream",
     "text": [
      "/Users/jkpark/.pyenv/versions/3.5.1/envs/flask-project-3.5.1/lib/python3.5/site-packages/sklearn/cross_validation.py:41: DeprecationWarning: This module was deprecated in version 0.18 in favor of the model_selection module into which all the refactored classes and functions are moved. Also note that the interface of the new CV iterators are different from that of this module. This module will be removed in 0.20.\n",
      "  \"This module will be removed in 0.20.\", DeprecationWarning)\n",
      "/Users/jkpark/.pyenv/versions/3.5.1/envs/flask-project-3.5.1/lib/python3.5/site-packages/sklearn/grid_search.py:42: DeprecationWarning: This module was deprecated in version 0.18 in favor of the model_selection module into which all the refactored classes and functions are moved. This module will be removed in 0.20.\n",
      "  DeprecationWarning)\n"
     ]
    }
   ],
   "source": [
    "from sklearn.feature_extraction.text import CountVectorizer, TfidfTransformer\n",
    "from sklearn.naive_bayes import MultinomialNB\n",
    "from sklearn.pipeline import Pipeline\n",
    "from sklearn.grid_search import GridSearchCV"
   ]
  },
  {
   "cell_type": "markdown",
   "metadata": {},
   "source": [
    "### GRID SEARCH"
   ]
  },
  {
   "cell_type": "code",
   "execution_count": 91,
   "metadata": {},
   "outputs": [
    {
     "name": "stdout",
     "output_type": "stream",
     "text": [
      "{'vect__ngram_range': (1, 2), 'clf__alpha': 0.00021544346900318845, 'tfidf__use_idf': True} 0.6047070124879923\n"
     ]
    }
   ],
   "source": [
    "# stopwords: english, ngram: (1, 2), alpha: 0.0002, Tfidf use\n",
    "\n",
    "clf_pipe = Pipeline([\n",
    "    ('vect', CountVectorizer(stop_words='english')),\n",
    "    ('tfidf', TfidfTransformer()),\n",
    "    ('clf', MultinomialNB()),\n",
    "])\n",
    "\n",
    "grid_params = {\n",
    "    'vect__ngram_range': [(1, 1), (1, 2)],\n",
    "    'tfidf__use_idf': (True, False),\n",
    "    'clf__alpha': np.logspace(-1, -4, 10)\n",
    "}\n",
    "\n",
    "clf = GridSearchCV(clf_pipe, grid_params)\n",
    "clf = clf.fit(X, y)\n",
    "\n",
    "print(clf.best_params_, clf.best_score_)"
   ]
  },
  {
   "cell_type": "code",
   "execution_count": 4,
   "metadata": {},
   "outputs": [
    {
     "name": "stdout",
     "output_type": "stream",
     "text": [
      "{'clf__alpha': 0.001} 0.6031288596130094\n"
     ]
    }
   ],
   "source": [
    "# stopwords: english, ngram: (1, 1), alpha: 0.00016, Tfidf use\n",
    "\n",
    "clf2_pipe = Pipeline([\n",
    "    ('vect', CountVectorizer(ngram_range=(1,1) ,stop_words='english')),\n",
    "    ('tfidf', TfidfTransformer(use_idf=True)),\n",
    "    ('clf', MultinomialNB()),\n",
    "])\n",
    "\n",
    "grid_params = {\n",
    "    'clf__alpha': np.logspace(-4, -3, 10)\n",
    "}\n",
    "\n",
    "clf2 = GridSearchCV(clf2_pipe, grid_params)\n",
    "clf2 = clf2.fit(X, y)\n",
    "\n",
    "print(clf2.best_params_, clf2.best_score_)"
   ]
  },
  {
   "cell_type": "code",
   "execution_count": 17,
   "metadata": {},
   "outputs": [
    {
     "data": {
      "text/plain": [
       "array(['Data Scientist'], dtype=object)"
      ]
     },
     "execution_count": 17,
     "metadata": {},
     "output_type": "execute_result"
    }
   ],
   "source": [
    "y_class[clf2.predict(['hello python, machine learning'])]"
   ]
  },
  {
   "cell_type": "markdown",
   "metadata": {},
   "source": [
    "### MODEL DUMP"
   ]
  },
  {
   "cell_type": "code",
   "execution_count": 7,
   "metadata": {},
   "outputs": [
    {
     "data": {
      "text/plain": [
       "['../flask_api/models/pred-model.pkl']"
      ]
     },
     "execution_count": 7,
     "metadata": {},
     "output_type": "execute_result"
    }
   ],
   "source": [
    "from sklearn.externals import joblib\n",
    "joblib.dump(clf2, '../flask_api/models/pred-model.pkl')"
   ]
  },
  {
   "cell_type": "code",
   "execution_count": 30,
   "metadata": {
    "scrolled": true
   },
   "outputs": [
    {
     "data": {
      "text/plain": [
       "['../flask_api/models/y-class.pkl']"
      ]
     },
     "execution_count": 30,
     "metadata": {},
     "output_type": "execute_result"
    }
   ],
   "source": [
    "joblib.dump(y_class, '../flask_api/models/y-class.pkl')"
   ]
  },
  {
   "cell_type": "markdown",
   "metadata": {},
   "source": [
    "### PREDICT RESULT FORMAT"
   ]
  },
  {
   "cell_type": "code",
   "execution_count": 65,
   "metadata": {},
   "outputs": [],
   "source": [
    "pred_prob = clf2.predict_proba(['hello python machine learning'])[0]"
   ]
  },
  {
   "cell_type": "markdown",
   "metadata": {},
   "source": [
    "##### FORMAT 0 (best)"
   ]
  },
  {
   "cell_type": "code",
   "execution_count": 147,
   "metadata": {},
   "outputs": [
    {
     "data": {
      "text/plain": [
       "[('Data Scientist', 0.28147724748799013),\n",
       " ('Data Analyst', 0.2120212331540459),\n",
       " ('Business Analyst', 0.1201267330399222),\n",
       " ('Solution Architect', 0.04030680067200857),\n",
       " ('Quantitative Developer', 0.02836807540103587)]"
      ]
     },
     "execution_count": 147,
     "metadata": {},
     "output_type": "execute_result"
    }
   ],
   "source": [
    "sorted_list = sorted(list(zip(y_class, pred_prob)), key=lambda x: x[1], reverse=True)\n",
    "sorted_list[:5]"
   ]
  },
  {
   "cell_type": "code",
   "execution_count": 144,
   "metadata": {},
   "outputs": [],
   "source": [
    "responses = {\n",
    "    'items': [],\n",
    "}\n",
    "index = 0\n",
    "\n",
    "for job, prob in sorted_list:\n",
    "    responses['items'].append({\n",
    "        'rank': index+1,\n",
    "        'job': job,\n",
    "        'prob': prob\n",
    "    })\n",
    "    index += 1"
   ]
  },
  {
   "cell_type": "code",
   "execution_count": 146,
   "metadata": {},
   "outputs": [
    {
     "data": {
      "text/plain": [
       "'{\"items\": [{\"prob\": 0.28147724748799013, \"job\": \"Data Scientist\", \"rank\": 1}, {\"prob\": 0.2120212331540459, \"job\": \"Data Analyst\", \"rank\": 2}, {\"prob\": 0.1201267330399222, \"job\": \"Business Analyst\", \"rank\": 3}, {\"prob\": 0.04030680067200857, \"job\": \"Solution Architect\", \"rank\": 4}, {\"prob\": 0.02836807540103587, \"job\": \"Quantitative Developer\", \"rank\": 5}, {\"prob\": 0.021804659303114295, \"job\": \"Automation Engineer\", \"rank\": 6}, {\"prob\": 0.021480847359805072, \"job\": \"Plumber\", \"rank\": 7}, {\"prob\": 0.020384632447473395, \"job\": \"Miner \", \"rank\": 8}, {\"prob\": 0.017279699251549076, \"job\": \"RF Engineer\", \"rank\": 9}, {\"prob\": 0.016702440175178947, \"job\": \"Research Analyst\", \"rank\": 10}, {\"prob\": 0.015660066611118604, \"job\": \"Director Of Engineering\", \"rank\": 11}, {\"prob\": 0.015519215358830697, \"job\": \"Research Scientist\", \"rank\": 12}, {\"prob\": 0.012777082435627954, \"job\": \"QA Engineer\", \"rank\": 13}, {\"prob\": 0.010673366194983982, \"job\": \"Instructional Designer\", \"rank\": 14}, {\"prob\": 0.009878521337361418, \"job\": \"Computer Programmer\", \"rank\": 15}, {\"prob\": 0.008343710146618081, \"job\": \"IT Business Analyst\", \"rank\": 16}, {\"prob\": 0.008006727126042876, \"job\": \"Technical Writer\", \"rank\": 17}, {\"prob\": 0.0077637370560115875, \"job\": \"Statistician\", \"rank\": 18}, {\"prob\": 0.007677189854270094, \"job\": \"Restaurant Manager\", \"rank\": 19}, {\"prob\": 0.007180632230819411, \"job\": \"Verification Engineer\", \"rank\": 20}, {\"prob\": 0.006865446957564361, \"job\": \"Electrical Engineer\", \"rank\": 21}, {\"prob\": 0.006180433905121656, \"job\": \"Web Developer\", \"rank\": 22}, {\"prob\": 0.005639881501319221, \"job\": \"Quantitative Analyst\", \"rank\": 23}, {\"prob\": 0.004770155799572899, \"job\": \"Mechanical Engineer \", \"rank\": 24}, {\"prob\": 0.00425652627895939, \"job\": \"Optical Engineer\", \"rank\": 25}, {\"prob\": 0.004013094276571871, \"job\": \"Historian\", \"rank\": 26}, {\"prob\": 0.0035149154393075387, \"job\": \"Network Administrator\", \"rank\": 27}, {\"prob\": 0.003100863843012197, \"job\": \"User Experience Researcher\", \"rank\": 28}, {\"prob\": 0.002891951967787276, \"job\": \"Reliability Engineer\", \"rank\": 29}, {\"prob\": 0.0022968156659740695, \"job\": \"Android Developer\", \"rank\": 30}, {\"prob\": 0.002093306867141306, \"job\": \"Marketing Manager\", \"rank\": 31}, {\"prob\": 0.0020844813701415884, \"job\": \"Quality Engineer\", \"rank\": 32}, {\"prob\": 0.001993256873792863, \"job\": \"Machinist\", \"rank\": 33}, {\"prob\": 0.001993152333702504, \"job\": \"Utility Worker\", \"rank\": 34}, {\"prob\": 0.0017791786942884828, \"job\": \"Tooling Engineer\", \"rank\": 35}, {\"prob\": 0.0016658638170065727, \"job\": \"Electronics Technician\", \"rank\": 36}, {\"prob\": 0.0014760548192264509, \"job\": \"End Web Developer\", \"rank\": 37}, {\"prob\": 0.0014132576681438421, \"job\": \"Test Engineer\", \"rank\": 38}, {\"prob\": 0.0013614270629223892, \"job\": \"Barista\", \"rank\": 39}, {\"prob\": 0.0012670724070212047, \"job\": \"Validation Engineer\", \"rank\": 40}, {\"prob\": 0.0012613480898097538, \"job\": \"Woodworkers\", \"rank\": 41}, {\"prob\": 0.0012432527206193388, \"job\": \"Structural Engineer\", \"rank\": 42}, {\"prob\": 0.0012258191360745739, \"job\": \"Veterinary\", \"rank\": 43}, {\"prob\": 0.0012228888392122603, \"job\": \"Sheet Metal Worker\", \"rank\": 44}, {\"prob\": 0.0012095503228758205, \"job\": \"Illustrator\", \"rank\": 45}, {\"prob\": 0.0011989999379878192, \"job\": \"Electrician\", \"rank\": 46}, {\"prob\": 0.0011873158750285513, \"job\": \"Java Developer\", \"rank\": 47}, {\"prob\": 0.0011285723693288193, \"job\": \"Software Developer\", \"rank\": 48}, {\"prob\": 0.0010653139230088061, \"job\": \"CNC Programmer\", \"rank\": 49}, {\"prob\": 0.000984845323787752, \"job\": \"Editor\", \"rank\": 50}, {\"prob\": 0.0009222251031639791, \"job\": \"Network Architect\", \"rank\": 51}, {\"prob\": 0.0009106412021663017, \"job\": \"Manufacturing Engineer\", \"rank\": 52}, {\"prob\": 0.0008632373713412064, \"job\": \"IT Manager\", \"rank\": 53}, {\"prob\": 0.0008603539331419747, \"job\": \"QA Tester\", \"rank\": 54}, {\"prob\": 0.0008515010820553337, \"job\": \"Dj\", \"rank\": 55}, {\"prob\": 0.0008456611418190977, \"job\": \"Quality Control Inspector\", \"rank\": 56}, {\"prob\": 0.0008040308634006832, \"job\": \"QA Analyst\", \"rank\": 57}, {\"prob\": 0.000803210886191928, \"job\": \"Technician\", \"rank\": 58}, {\"prob\": 0.0008001947989914895, \"job\": \"Quality Control Technician\", \"rank\": 59}, {\"prob\": 0.0007910940891854342, \"job\": \"Web Designer\", \"rank\": 60}, {\"prob\": 0.0007908940456223318, \"job\": \"Inspector\", \"rank\": 61}, {\"prob\": 0.0007809476545505281, \"job\": \"Field Service Technician\", \"rank\": 62}, {\"prob\": 0.0007780733108269267, \"job\": \"Network Engineer\", \"rank\": 63}, {\"prob\": 0.0007385492700617775, \"job\": \"Bookkeeper\", \"rank\": 64}, {\"prob\": 0.0007348704697255646, \"job\": \"Painter\", \"rank\": 65}, {\"prob\": 0.0007285821467958651, \"job\": \"Webmaster\", \"rank\": 66}, {\"prob\": 0.0007219311645103029, \"job\": \"Software Tester\", \"rank\": 67}, {\"prob\": 0.0007196796893474568, \"job\": \"Welder\", \"rank\": 68}, {\"prob\": 0.0006848959968932725, \"job\": \"Office Administrator\", \"rank\": 69}, {\"prob\": 0.0006842326876678554, \"job\": \"National Sales Manager\", \"rank\": 70}, {\"prob\": 0.0006814588878917997, \"job\": \"Paralegal\", \"rank\": 71}, {\"prob\": 0.0006797471213470721, \"job\": \"Forklift Operator\", \"rank\": 72}, {\"prob\": 0.0006517809049818069, \"job\": \"Quality Analyst\", \"rank\": 73}, {\"prob\": 0.0006328244372680892, \"job\": \"Data Entry Clerk\", \"rank\": 74}, {\"prob\": 0.0005929943768129933, \"job\": \"Laboratory Technician\", \"rank\": 75}, {\"prob\": 0.0005786215183590153, \"job\": \"Quality Inspector\", \"rank\": 76}, {\"prob\": 0.0005646257868561899, \"job\": \"Intelligence Analyst\", \"rank\": 77}, {\"prob\": 0.000557016690194142, \"job\": \"Preschool Teacher\", \"rank\": 78}, {\"prob\": 0.0005539769402042931, \"job\": \"HRIS Analyst\", \"rank\": 79}, {\"prob\": 0.0005513570129614, \"job\": \"Radiology Technologist\", \"rank\": 80}, {\"prob\": 0.0005153424459444613, \"job\": \"Janitor\", \"rank\": 81}, {\"prob\": 0.0004881253976728337, \"job\": \"Early Childhood Teacher\", \"rank\": 82}, {\"prob\": 0.00045944219755122067, \"job\": \"Loan Officer\", \"rank\": 83}, {\"prob\": 0.0004580501471091107, \"job\": \"Ironworker\", \"rank\": 84}, {\"prob\": 0.0004303975809554222, \"job\": \"Social Worker\", \"rank\": 85}, {\"prob\": 0.00040687252183156983, \"job\": \"Training Coordinator\", \"rank\": 86}, {\"prob\": 0.0003928083879096539, \"job\": \"Special Education Teacher\", \"rank\": 87}, {\"prob\": 0.0003874917324078757, \"job\": \"HR Coordinator\", \"rank\": 88}, {\"prob\": 0.0003787843167321362, \"job\": \"GIS Analyst\", \"rank\": 89}, {\"prob\": 0.00037625449963641375, \"job\": \"Tutor\", \"rank\": 90}, {\"prob\": 0.00035831829296628794, \"job\": \"Computer Technician\", \"rank\": 91}, {\"prob\": 0.0003557365464465422, \"job\": \"Groundskeeper\", \"rank\": 92}, {\"prob\": 0.00035037320465705976, \"job\": \"Safety Manager\", \"rank\": 93}, {\"prob\": 0.0003499767169240361, \"job\": \"Director Of Operations\", \"rank\": 94}, {\"prob\": 0.0003468895869340289, \"job\": \"Teacher\", \"rank\": 95}, {\"prob\": 0.0003242842529398462, \"job\": \"Financial Controller\", \"rank\": 96}, {\"prob\": 0.000314643674436476, \"job\": \"Welder Fabricator\", \"rank\": 97}, {\"prob\": 0.00031219769556098046, \"job\": \"Yard Worker\", \"rank\": 98}, {\"prob\": 0.0002824807218472711, \"job\": \"Graphic Designer\", \"rank\": 99}, {\"prob\": 0.0002688001719516392, \"job\": \"Bank Reconciliation \", \"rank\": 100}, {\"prob\": 0.0002684114166866789, \"job\": \"HR Specialist\", \"rank\": 101}, {\"prob\": 0.00026458936673990523, \"job\": \"Translator\", \"rank\": 102}, {\"prob\": 0.00026411015060846246, \"job\": \"Facilities Manager\", \"rank\": 103}, {\"prob\": 0.000261545110497996, \"job\": \"Librarian\", \"rank\": 104}, {\"prob\": 0.0002561641983834177, \"job\": \"Veterinary Technician\", \"rank\": 105}, {\"prob\": 0.00025498688174587164, \"job\": \"Wireless Engineer\", \"rank\": 106}, {\"prob\": 0.0002502041402858551, \"job\": \"Travel Agent\", \"rank\": 107}, {\"prob\": 0.000249991166834103, \"job\": \"Aerospace Engineer \", \"rank\": 108}, {\"prob\": 0.0002486871789519888, \"job\": \"Piping Designer\", \"rank\": 109}, {\"prob\": 0.0002478927144764543, \"job\": \"Visual Merchandiser\", \"rank\": 110}, {\"prob\": 0.00024447452546256046, \"job\": \"Financial Analyst \", \"rank\": 111}, {\"prob\": 0.00024300503400910258, \"job\": \"Dietitian\", \"rank\": 112}, {\"prob\": 0.00023841601471880232, \"job\": \"Automotive Technician\", \"rank\": 113}, {\"prob\": 0.00023145711689367987, \"job\": \"Ultrasound Technologist\", \"rank\": 114}, {\"prob\": 0.0002270728454756464, \"job\": \"Proofreader\", \"rank\": 115}, {\"prob\": 0.0002162448208420449, \"job\": \"Life Coach\", \"rank\": 116}, {\"prob\": 0.00021309485063269218, \"job\": \"Farm Worker\", \"rank\": 117}, {\"prob\": 0.0002105300763244617, \"job\": \"Millwright\", \"rank\": 118}, {\"prob\": 0.0002086674097538536, \"job\": \"Geotechnical Engineer\", \"rank\": 119}, {\"prob\": 0.00020846835031800994, \"job\": \"Bus Driver\", \"rank\": 120}, {\"prob\": 0.00020011272373136844, \"job\": \"Information Security Analyst\", \"rank\": 121}, {\"prob\": 0.0001995311266196316, \"job\": \"Phlebotomist\", \"rank\": 122}, {\"prob\": 0.00019092787185258337, \"job\": \"OSP Engineer\", \"rank\": 123}, {\"prob\": 0.00018510439744947793, \"job\": \"Insurance Agent\", \"rank\": 124}, {\"prob\": 0.00017723935308512376, \"job\": \"Interior Designer\", \"rank\": 125}, {\"prob\": 0.000174660733864542, \"job\": \"Event Coordinator\", \"rank\": 126}, {\"prob\": 0.0001746443478629802, \"job\": \"Welding Engineer\", \"rank\": 127}, {\"prob\": 0.00017460186789183352, \"job\": \"Digital Marketing Manager\", \"rank\": 128}, {\"prob\": 0.0001678541093969101, \"job\": \"User Interface Designer\", \"rank\": 129}, {\"prob\": 0.00016700555242438943, \"job\": \"Office Clerk\", \"rank\": 130}, {\"prob\": 0.00016535649237130185, \"job\": \"Warehouse Operations Manager\", \"rank\": 131}, {\"prob\": 0.00016250247141919223, \"job\": \"Optometrist\", \"rank\": 132}, {\"prob\": 0.00016148984264360969, \"job\": \"Recruiter \", \"rank\": 133}, {\"prob\": 0.00016143751910409552, \"job\": \"Event Planner\", \"rank\": 134}, {\"prob\": 0.00016142981253955, \"job\": \"Photographer\", \"rank\": 135}, {\"prob\": 0.00016063769228326605, \"job\": \"Release Manager\", \"rank\": 136}, {\"prob\": 0.00015792228394803312, \"job\": \"Bank Teller\", \"rank\": 137}, {\"prob\": 0.00015454253960281528, \"job\": \"Refrigeration Technician\", \"rank\": 138}, {\"prob\": 0.00015396016686524197, \"job\": \"Noc Technician\", \"rank\": 139}, {\"prob\": 0.00015360512396209606, \"job\": \"SAS Programmer\", \"rank\": 140}, {\"prob\": 0.00015333473636477412, \"job\": \"Auto Mechanic\", \"rank\": 141}, {\"prob\": 0.00015028735289885752, \"job\": \"Quality Technician\", \"rank\": 142}, {\"prob\": 0.0001491202016855625, \"job\": \"Operations Research Analyst\", \"rank\": 143}, {\"prob\": 0.0001462226651000322, \"job\": \"Land Surveyor\", \"rank\": 144}, {\"prob\": 0.00014275506349128788, \"job\": \"Medical Coder\", \"rank\": 145}, {\"prob\": 0.00014014047665373964, \"job\": \"Youth Programs Social Worker\", \"rank\": 146}, {\"prob\": 0.00013694004711727327, \"job\": \"Director Of Construction\", \"rank\": 147}, {\"prob\": 0.00013472577041802886, \"job\": \"Network Technician\", \"rank\": 148}, {\"prob\": 0.00013445235873502212, \"job\": \"Attorney\", \"rank\": 149}, {\"prob\": 0.00013038070502600682, \"job\": \"Massage Therapist\", \"rank\": 150}, {\"prob\": 0.00012727926060483746, \"job\": \"Veterinarian\", \"rank\": 151}, {\"prob\": 0.00012438175519688565, \"job\": \"Network Operations Manager\", \"rank\": 152}, {\"prob\": 0.0001242102818970972, \"job\": \"LPN\", \"rank\": 153}, {\"prob\": 0.00012180939773522907, \"job\": \"Fraud Investigator\", \"rank\": 154}, {\"prob\": 0.0001214509809849461, \"job\": \"HVAC Engineer\", \"rank\": 155}, {\"prob\": 0.00012030242776793814, \"job\": \"Kinesiology\", \"rank\": 156}, {\"prob\": 0.0001195068722509252, \"job\": \"Esthetician\", \"rank\": 157}, {\"prob\": 0.00011740998038557147, \"job\": \"Electronics Engineer\", \"rank\": 158}, {\"prob\": 0.0001112859175455542, \"job\": \"Personal Trainer\", \"rank\": 159}, {\"prob\": 0.000110070519395837, \"job\": \"IT Director\", \"rank\": 160}, {\"prob\": 0.00010752494033105787, \"job\": \"Security Guard\", \"rank\": 161}, {\"prob\": 0.00010680188359517646, \"job\": \"Proposal Manager\", \"rank\": 162}, {\"prob\": 0.000105912103135283, \"job\": \"Chef\", \"rank\": 163}, {\"prob\": 0.00010521607894755168, \"job\": \"Licensed Practical Nurse\", \"rank\": 164}, {\"prob\": 0.00010226040780300081, \"job\": \"Civil Engineer\", \"rank\": 165}, {\"prob\": 9.53984747214619e-05, \"job\": \"Retail Manager\", \"rank\": 166}, {\"prob\": 9.310304586576701e-05, \"job\": \"Security Officer\", \"rank\": 167}, {\"prob\": 9.235153463526337e-05, \"job\": \"Dentist\", \"rank\": 168}, {\"prob\": 9.207840255862293e-05, \"job\": \"IT Auditor\", \"rank\": 169}, {\"prob\": 9.084619253191674e-05, \"job\": \"CPA\", \"rank\": 170}, {\"prob\": 9.043787997880134e-05, \"job\": \"Kitchen Manager\", \"rank\": 171}, {\"prob\": 8.983273837239307e-05, \"job\": \"Business Development Manager\", \"rank\": 172}, {\"prob\": 8.465900016447885e-05, \"job\": \"Recruiting Coordinator\", \"rank\": 173}, {\"prob\": 8.233841739404425e-05, \"job\": \"Financial Planner\", \"rank\": 174}, {\"prob\": 8.118199823314639e-05, \"job\": \"Pharmacist\", \"rank\": 175}, {\"prob\": 8.001701179634978e-05, \"job\": \"CFO \", \"rank\": 176}, {\"prob\": 7.717238233994696e-05, \"job\": \"Transportation Manager\", \"rank\": 177}, {\"prob\": 7.707216654108451e-05, \"job\": \"Logistics Manager\", \"rank\": 178}, {\"prob\": 7.471482150756211e-05, \"job\": \"Landscape Architect\", \"rank\": 179}, {\"prob\": 7.322709755757183e-05, \"job\": \"Legal Secretary\", \"rank\": 180}, {\"prob\": 6.976140261429367e-05, \"job\": \"Merchandiser\", \"rank\": 181}, {\"prob\": 6.823353484681017e-05, \"job\": \"Human Resources Manager\", \"rank\": 182}, {\"prob\": 6.528988012694542e-05, \"job\": \"Executive Chef\", \"rank\": 183}, {\"prob\": 6.510231264124922e-05, \"job\": \"Dental Hygienist\", \"rank\": 184}, {\"prob\": 5.998822676831931e-05, \"job\": \"Locksmith\", \"rank\": 185}, {\"prob\": 5.583075320599966e-05, \"job\": \"Billing Specialist\", \"rank\": 186}, {\"prob\": 5.185998230576062e-05, \"job\": \"Tower Climber\", \"rank\": 187}, {\"prob\": 5.067220528987915e-05, \"job\": \"Tanker Driver\", \"rank\": 188}, {\"prob\": 5.056244849521417e-05, \"job\": \"Nail Technician\", \"rank\": 189}, {\"prob\": 4.8468481059700115e-05, \"job\": \"Medical Scribe\", \"rank\": 190}, {\"prob\": 4.769902868059904e-05, \"job\": \"Food Scientist\", \"rank\": 191}, {\"prob\": 4.5431142349051904e-05, \"job\": \"Project Manager\", \"rank\": 192}, {\"prob\": 4.4461154204527884e-05, \"job\": \"Grant Accountant \", \"rank\": 193}, {\"prob\": 4.303672905850795e-05, \"job\": \"Telecommunications Technician\", \"rank\": 194}, {\"prob\": 4.2762725185190755e-05, \"job\": \"Firefighter\", \"rank\": 195}, {\"prob\": 4.237620348091607e-05, \"job\": \"Funeral Director\", \"rank\": 196}, {\"prob\": 4.1793667747101825e-05, \"job\": \"Epidemiologist\", \"rank\": 197}, {\"prob\": 4.051335598765493e-05, \"job\": \"Market Research Analyst\", \"rank\": 198}, {\"prob\": 4.040222102252451e-05, \"job\": \"Training Consultant\", \"rank\": 199}, {\"prob\": 3.972633614135859e-05, \"job\": \"HVAC Installer\", \"rank\": 200}, {\"prob\": 3.9693007124483696e-05, \"job\": \"Quality Control Analyst\", \"rank\": 201}, {\"prob\": 3.930221477870324e-05, \"job\": \"Ophthalmic Technician\", \"rank\": 202}, {\"prob\": 3.9107151504105e-05, \"job\": \"Real Estate Paralegal\", \"rank\": 203}, {\"prob\": 3.850755496359557e-05, \"job\": \"Fleet Manager\", \"rank\": 204}, {\"prob\": 3.816773927893594e-05, \"job\": \"Underwriter\", \"rank\": 205}, {\"prob\": 3.7709435353733974e-05, \"job\": \"General Manager\", \"rank\": 206}, {\"prob\": 3.756237561468425e-05, \"job\": \"LVN\", \"rank\": 207}, {\"prob\": 3.7398005539093364e-05, \"job\": \"User Experience Designer\", \"rank\": 208}, {\"prob\": 3.733066524746217e-05, \"job\": \"Yard Jockey\", \"rank\": 209}, {\"prob\": 3.7202282244147556e-05, \"job\": \"Financial Manager\", \"rank\": 210}, {\"prob\": 3.70228984815105e-05, \"job\": \"Wellness Coach\", \"rank\": 211}, {\"prob\": 3.6851523435969194e-05, \"job\": \"Optician\", \"rank\": 212}, {\"prob\": 3.6502940970593006e-05, \"job\": \"Finance Director\", \"rank\": 213}, {\"prob\": 3.612657106070615e-05, \"job\": \"Graphic Artist\", \"rank\": 214}, {\"prob\": 3.562204426808599e-05, \"job\": \"Brand Ambassador\", \"rank\": 215}, {\"prob\": 3.505475939377167e-05, \"job\": \"Flight Attendant\", \"rank\": 216}, {\"prob\": 3.2030275795427216e-05, \"job\": \"Insurance Investigator\", \"rank\": 217}, {\"prob\": 3.1817855333366977e-05, \"job\": \"Infrastructure Project Manager\", \"rank\": 218}, {\"prob\": 3.1686721799126526e-05, \"job\": \"Logistics Specialist\", \"rank\": 219}, {\"prob\": 3.165171509449059e-05, \"job\": \"Universal Banker\", \"rank\": 220}, {\"prob\": 3.118111678088396e-05, \"job\": \"Technical Sales Engineer\", \"rank\": 221}, {\"prob\": 2.95202134302362e-05, \"job\": \"Microbiologist\", \"rank\": 222}, {\"prob\": 2.888230162198889e-05, \"job\": \"Police Officer\", \"rank\": 223}, {\"prob\": 2.848736897873835e-05, \"job\": \"National Account Manager\", \"rank\": 224}, {\"prob\": 2.8386610257894462e-05, \"job\": \"Environmental Scientist\", \"rank\": 225}, {\"prob\": 2.7389331453101963e-05, \"job\": \"Geologist\", \"rank\": 226}, {\"prob\": 2.5498407120549318e-05, \"job\": \"Biologist\", \"rank\": 227}, {\"prob\": 2.3322683334171584e-05, \"job\": \"Criminal Investigator\", \"rank\": 228}, {\"prob\": 2.2939550469458338e-05, \"job\": \"Leasing Consultant\", \"rank\": 229}, {\"prob\": 2.2245394985743174e-05, \"job\": \"Medical Technologist\", \"rank\": 230}, {\"prob\": 2.192147057678668e-05, \"job\": \"Supply Chain Manager\", \"rank\": 231}, {\"prob\": 2.134980038733889e-05, \"job\": \"Instrument Technician\", \"rank\": 232}, {\"prob\": 1.6696181150970354e-05, \"job\": \"Private Investigator\", \"rank\": 233}, {\"prob\": 1.536141092427466e-05, \"job\": \"Accounts Payable Manager\", \"rank\": 234}, {\"prob\": 1.3423445025987439e-05, \"job\": \"Sales Manager\", \"rank\": 235}, {\"prob\": 1.2595629947143576e-05, \"job\": \"Retail Merchandiser\", \"rank\": 236}, {\"prob\": 1.0593771927358319e-05, \"job\": \"Applications Manager\", \"rank\": 237}, {\"prob\": 8.931278730149638e-06, \"job\": \"Operations Supervisor\", \"rank\": 238}, {\"prob\": 6.020349709231446e-06, \"job\": \"Accountant\", \"rank\": 239}]}'"
      ]
     },
     "execution_count": 146,
     "metadata": {},
     "output_type": "execute_result"
    }
   ],
   "source": [
    "json.dumps(responses)"
   ]
  },
  {
   "cell_type": "markdown",
   "metadata": {},
   "source": [
    "##### FORMAT 1"
   ]
  },
  {
   "cell_type": "code",
   "execution_count": 123,
   "metadata": {},
   "outputs": [],
   "source": [
    "result_dict = {}\n",
    "for key, val, in zip(y_class, pred_prob):\n",
    "    result_dict[key] = val"
   ]
  },
  {
   "cell_type": "code",
   "execution_count": 131,
   "metadata": {},
   "outputs": [],
   "source": [
    "sorted_result = sorted(result_dict.items(), key=lambda x: x[1], reverse=True)"
   ]
  },
  {
   "cell_type": "code",
   "execution_count": 132,
   "metadata": {},
   "outputs": [
    {
     "data": {
      "text/plain": [
       "'[[\"Data Scientist\", 0.28147724748799013], [\"Data Analyst\", 0.2120212331540459], [\"Business Analyst\", 0.1201267330399222], [\"Solution Architect\", 0.04030680067200857], [\"Quantitative Developer\", 0.02836807540103587], [\"Automation Engineer\", 0.021804659303114295], [\"Plumber\", 0.021480847359805072], [\"Miner \", 0.020384632447473395], [\"RF Engineer\", 0.017279699251549076], [\"Research Analyst\", 0.016702440175178947], [\"Director Of Engineering\", 0.015660066611118604], [\"Research Scientist\", 0.015519215358830697], [\"QA Engineer\", 0.012777082435627954], [\"Instructional Designer\", 0.010673366194983982], [\"Computer Programmer\", 0.009878521337361418], [\"IT Business Analyst\", 0.008343710146618081], [\"Technical Writer\", 0.008006727126042876], [\"Statistician\", 0.0077637370560115875], [\"Restaurant Manager\", 0.007677189854270094], [\"Verification Engineer\", 0.007180632230819411], [\"Electrical Engineer\", 0.006865446957564361], [\"Web Developer\", 0.006180433905121656], [\"Quantitative Analyst\", 0.005639881501319221], [\"Mechanical Engineer \", 0.004770155799572899], [\"Optical Engineer\", 0.00425652627895939], [\"Historian\", 0.004013094276571871], [\"Network Administrator\", 0.0035149154393075387], [\"User Experience Researcher\", 0.003100863843012197], [\"Reliability Engineer\", 0.002891951967787276], [\"Android Developer\", 0.0022968156659740695], [\"Marketing Manager\", 0.002093306867141306], [\"Quality Engineer\", 0.0020844813701415884], [\"Machinist\", 0.001993256873792863], [\"Utility Worker\", 0.001993152333702504], [\"Tooling Engineer\", 0.0017791786942884828], [\"Electronics Technician\", 0.0016658638170065727], [\"End Web Developer\", 0.0014760548192264509], [\"Test Engineer\", 0.0014132576681438421], [\"Barista\", 0.0013614270629223892], [\"Validation Engineer\", 0.0012670724070212047], [\"Woodworkers\", 0.0012613480898097538], [\"Structural Engineer\", 0.0012432527206193388], [\"Veterinary\", 0.0012258191360745739], [\"Sheet Metal Worker\", 0.0012228888392122603], [\"Illustrator\", 0.0012095503228758205], [\"Electrician\", 0.0011989999379878192], [\"Java Developer\", 0.0011873158750285513], [\"Software Developer\", 0.0011285723693288193], [\"CNC Programmer\", 0.0010653139230088061], [\"Editor\", 0.000984845323787752], [\"Network Architect\", 0.0009222251031639791], [\"Manufacturing Engineer\", 0.0009106412021663017], [\"IT Manager\", 0.0008632373713412064], [\"QA Tester\", 0.0008603539331419747], [\"Dj\", 0.0008515010820553337], [\"Quality Control Inspector\", 0.0008456611418190977], [\"QA Analyst\", 0.0008040308634006832], [\"Technician\", 0.000803210886191928], [\"Quality Control Technician\", 0.0008001947989914895], [\"Web Designer\", 0.0007910940891854342], [\"Inspector\", 0.0007908940456223318], [\"Field Service Technician\", 0.0007809476545505281], [\"Network Engineer\", 0.0007780733108269267], [\"Bookkeeper\", 0.0007385492700617775], [\"Painter\", 0.0007348704697255646], [\"Webmaster\", 0.0007285821467958651], [\"Software Tester\", 0.0007219311645103029], [\"Welder\", 0.0007196796893474568], [\"Office Administrator\", 0.0006848959968932725], [\"National Sales Manager\", 0.0006842326876678554], [\"Paralegal\", 0.0006814588878917997], [\"Forklift Operator\", 0.0006797471213470721], [\"Quality Analyst\", 0.0006517809049818069], [\"Data Entry Clerk\", 0.0006328244372680892], [\"Laboratory Technician\", 0.0005929943768129933], [\"Quality Inspector\", 0.0005786215183590153], [\"Intelligence Analyst\", 0.0005646257868561899], [\"Preschool Teacher\", 0.000557016690194142], [\"HRIS Analyst\", 0.0005539769402042931], [\"Radiology Technologist\", 0.0005513570129614], [\"Janitor\", 0.0005153424459444613], [\"Early Childhood Teacher\", 0.0004881253976728337], [\"Loan Officer\", 0.00045944219755122067], [\"Ironworker\", 0.0004580501471091107], [\"Social Worker\", 0.0004303975809554222], [\"Training Coordinator\", 0.00040687252183156983], [\"Special Education Teacher\", 0.0003928083879096539], [\"HR Coordinator\", 0.0003874917324078757], [\"GIS Analyst\", 0.0003787843167321362], [\"Tutor\", 0.00037625449963641375], [\"Computer Technician\", 0.00035831829296628794], [\"Groundskeeper\", 0.0003557365464465422], [\"Safety Manager\", 0.00035037320465705976], [\"Director Of Operations\", 0.0003499767169240361], [\"Teacher\", 0.0003468895869340289], [\"Financial Controller\", 0.0003242842529398462], [\"Welder Fabricator\", 0.000314643674436476], [\"Yard Worker\", 0.00031219769556098046], [\"Graphic Designer\", 0.0002824807218472711], [\"Bank Reconciliation \", 0.0002688001719516392], [\"HR Specialist\", 0.0002684114166866789], [\"Translator\", 0.00026458936673990523], [\"Facilities Manager\", 0.00026411015060846246], [\"Librarian\", 0.000261545110497996], [\"Veterinary Technician\", 0.0002561641983834177], [\"Wireless Engineer\", 0.00025498688174587164], [\"Travel Agent\", 0.0002502041402858551], [\"Aerospace Engineer \", 0.000249991166834103], [\"Piping Designer\", 0.0002486871789519888], [\"Visual Merchandiser\", 0.0002478927144764543], [\"Financial Analyst \", 0.00024447452546256046], [\"Dietitian\", 0.00024300503400910258], [\"Automotive Technician\", 0.00023841601471880232], [\"Ultrasound Technologist\", 0.00023145711689367987], [\"Proofreader\", 0.0002270728454756464], [\"Life Coach\", 0.0002162448208420449], [\"Farm Worker\", 0.00021309485063269218], [\"Millwright\", 0.0002105300763244617], [\"Geotechnical Engineer\", 0.0002086674097538536], [\"Bus Driver\", 0.00020846835031800994], [\"Information Security Analyst\", 0.00020011272373136844], [\"Phlebotomist\", 0.0001995311266196316], [\"OSP Engineer\", 0.00019092787185258337], [\"Insurance Agent\", 0.00018510439744947793], [\"Interior Designer\", 0.00017723935308512376], [\"Event Coordinator\", 0.000174660733864542], [\"Welding Engineer\", 0.0001746443478629802], [\"Digital Marketing Manager\", 0.00017460186789183352], [\"User Interface Designer\", 0.0001678541093969101], [\"Office Clerk\", 0.00016700555242438943], [\"Warehouse Operations Manager\", 0.00016535649237130185], [\"Optometrist\", 0.00016250247141919223], [\"Recruiter \", 0.00016148984264360969], [\"Event Planner\", 0.00016143751910409552], [\"Photographer\", 0.00016142981253955], [\"Release Manager\", 0.00016063769228326605], [\"Bank Teller\", 0.00015792228394803312], [\"Refrigeration Technician\", 0.00015454253960281528], [\"Noc Technician\", 0.00015396016686524197], [\"SAS Programmer\", 0.00015360512396209606], [\"Auto Mechanic\", 0.00015333473636477412], [\"Quality Technician\", 0.00015028735289885752], [\"Operations Research Analyst\", 0.0001491202016855625], [\"Land Surveyor\", 0.0001462226651000322], [\"Medical Coder\", 0.00014275506349128788], [\"Youth Programs Social Worker\", 0.00014014047665373964], [\"Director Of Construction\", 0.00013694004711727327], [\"Network Technician\", 0.00013472577041802886], [\"Attorney\", 0.00013445235873502212], [\"Massage Therapist\", 0.00013038070502600682], [\"Veterinarian\", 0.00012727926060483746], [\"Network Operations Manager\", 0.00012438175519688565], [\"LPN\", 0.0001242102818970972], [\"Fraud Investigator\", 0.00012180939773522907], [\"HVAC Engineer\", 0.0001214509809849461], [\"Kinesiology\", 0.00012030242776793814], [\"Esthetician\", 0.0001195068722509252], [\"Electronics Engineer\", 0.00011740998038557147], [\"Personal Trainer\", 0.0001112859175455542], [\"IT Director\", 0.000110070519395837], [\"Security Guard\", 0.00010752494033105787], [\"Proposal Manager\", 0.00010680188359517646], [\"Chef\", 0.000105912103135283], [\"Licensed Practical Nurse\", 0.00010521607894755168], [\"Civil Engineer\", 0.00010226040780300081], [\"Retail Manager\", 9.53984747214619e-05], [\"Security Officer\", 9.310304586576701e-05], [\"Dentist\", 9.235153463526337e-05], [\"IT Auditor\", 9.207840255862293e-05], [\"CPA\", 9.084619253191674e-05], [\"Kitchen Manager\", 9.043787997880134e-05], [\"Business Development Manager\", 8.983273837239307e-05], [\"Recruiting Coordinator\", 8.465900016447885e-05], [\"Financial Planner\", 8.233841739404425e-05], [\"Pharmacist\", 8.118199823314639e-05], [\"CFO \", 8.001701179634978e-05], [\"Transportation Manager\", 7.717238233994696e-05], [\"Logistics Manager\", 7.707216654108451e-05], [\"Landscape Architect\", 7.471482150756211e-05], [\"Legal Secretary\", 7.322709755757183e-05], [\"Merchandiser\", 6.976140261429367e-05], [\"Human Resources Manager\", 6.823353484681017e-05], [\"Executive Chef\", 6.528988012694542e-05], [\"Dental Hygienist\", 6.510231264124922e-05], [\"Locksmith\", 5.998822676831931e-05], [\"Billing Specialist\", 5.583075320599966e-05], [\"Tower Climber\", 5.185998230576062e-05], [\"Tanker Driver\", 5.067220528987915e-05], [\"Nail Technician\", 5.056244849521417e-05], [\"Medical Scribe\", 4.8468481059700115e-05], [\"Food Scientist\", 4.769902868059904e-05], [\"Project Manager\", 4.5431142349051904e-05], [\"Grant Accountant \", 4.4461154204527884e-05], [\"Telecommunications Technician\", 4.303672905850795e-05], [\"Firefighter\", 4.2762725185190755e-05], [\"Funeral Director\", 4.237620348091607e-05], [\"Epidemiologist\", 4.1793667747101825e-05], [\"Market Research Analyst\", 4.051335598765493e-05], [\"Training Consultant\", 4.040222102252451e-05], [\"HVAC Installer\", 3.972633614135859e-05], [\"Quality Control Analyst\", 3.9693007124483696e-05], [\"Ophthalmic Technician\", 3.930221477870324e-05], [\"Real Estate Paralegal\", 3.9107151504105e-05], [\"Fleet Manager\", 3.850755496359557e-05], [\"Underwriter\", 3.816773927893594e-05], [\"General Manager\", 3.7709435353733974e-05], [\"LVN\", 3.756237561468425e-05], [\"User Experience Designer\", 3.7398005539093364e-05], [\"Yard Jockey\", 3.733066524746217e-05], [\"Financial Manager\", 3.7202282244147556e-05], [\"Wellness Coach\", 3.70228984815105e-05], [\"Optician\", 3.6851523435969194e-05], [\"Finance Director\", 3.6502940970593006e-05], [\"Graphic Artist\", 3.612657106070615e-05], [\"Brand Ambassador\", 3.562204426808599e-05], [\"Flight Attendant\", 3.505475939377167e-05], [\"Insurance Investigator\", 3.2030275795427216e-05], [\"Infrastructure Project Manager\", 3.1817855333366977e-05], [\"Logistics Specialist\", 3.1686721799126526e-05], [\"Universal Banker\", 3.165171509449059e-05], [\"Technical Sales Engineer\", 3.118111678088396e-05], [\"Microbiologist\", 2.95202134302362e-05], [\"Police Officer\", 2.888230162198889e-05], [\"National Account Manager\", 2.848736897873835e-05], [\"Environmental Scientist\", 2.8386610257894462e-05], [\"Geologist\", 2.7389331453101963e-05], [\"Biologist\", 2.5498407120549318e-05], [\"Criminal Investigator\", 2.3322683334171584e-05], [\"Leasing Consultant\", 2.2939550469458338e-05], [\"Medical Technologist\", 2.2245394985743174e-05], [\"Supply Chain Manager\", 2.192147057678668e-05], [\"Instrument Technician\", 2.134980038733889e-05], [\"Private Investigator\", 1.6696181150970354e-05], [\"Accounts Payable Manager\", 1.536141092427466e-05], [\"Sales Manager\", 1.3423445025987439e-05], [\"Retail Merchandiser\", 1.2595629947143576e-05], [\"Applications Manager\", 1.0593771927358319e-05], [\"Operations Supervisor\", 8.931278730149638e-06], [\"Accountant\", 6.020349709231446e-06]]'"
      ]
     },
     "execution_count": 132,
     "metadata": {},
     "output_type": "execute_result"
    }
   ],
   "source": [
    "json.dumps(sorted_result)"
   ]
  },
  {
   "cell_type": "markdown",
   "metadata": {},
   "source": [
    "##### FORMAT 2"
   ]
  },
  {
   "cell_type": "code",
   "execution_count": 126,
   "metadata": {},
   "outputs": [],
   "source": [
    "pred_job_list = []\n",
    "pred_prob_lsit = []\n",
    "\n",
    "for key, val in zip(y_class, pred_prob):\n",
    "    pred_job_list.append(key)\n",
    "    pred_prob_lsit.append(val)"
   ]
  },
  {
   "cell_type": "code",
   "execution_count": 127,
   "metadata": {},
   "outputs": [],
   "source": [
    "pred_result = {}\n",
    "pred_result['job'] = pred_job_list\n",
    "pred_result['prob'] = pred_prob_lsit"
   ]
  },
  {
   "cell_type": "code",
   "execution_count": 129,
   "metadata": {},
   "outputs": [
    {
     "data": {
      "text/plain": [
       "'{\"job\": [\"Accountant\", \"Accounts Payable Manager\", \"Aerospace Engineer \", \"Android Developer\", \"Applications Manager\", \"Attorney\", \"Auto Mechanic\", \"Automation Engineer\", \"Automotive Technician\", \"Bank Reconciliation \", \"Bank Teller\", \"Barista\", \"Billing Specialist\", \"Biologist\", \"Bookkeeper\", \"Brand Ambassador\", \"Bus Driver\", \"Business Analyst\", \"Business Development Manager\", \"CFO \", \"CNC Programmer\", \"CPA\", \"Chef\", \"Civil Engineer\", \"Computer Programmer\", \"Computer Technician\", \"Criminal Investigator\", \"Data Analyst\", \"Data Entry Clerk\", \"Data Scientist\", \"Dental Hygienist\", \"Dentist\", \"Dietitian\", \"Digital Marketing Manager\", \"Director Of Construction\", \"Director Of Engineering\", \"Director Of Operations\", \"Dj\", \"Early Childhood Teacher\", \"Editor\", \"Electrical Engineer\", \"Electrician\", \"Electronics Engineer\", \"Electronics Technician\", \"End Web Developer\", \"Environmental Scientist\", \"Epidemiologist\", \"Esthetician\", \"Event Coordinator\", \"Event Planner\", \"Executive Chef\", \"Facilities Manager\", \"Farm Worker\", \"Field Service Technician\", \"Finance Director\", \"Financial Analyst \", \"Financial Controller\", \"Financial Manager\", \"Financial Planner\", \"Firefighter\", \"Fleet Manager\", \"Flight Attendant\", \"Food Scientist\", \"Forklift Operator\", \"Fraud Investigator\", \"Funeral Director\", \"GIS Analyst\", \"General Manager\", \"Geologist\", \"Geotechnical Engineer\", \"Grant Accountant \", \"Graphic Artist\", \"Graphic Designer\", \"Groundskeeper\", \"HR Coordinator\", \"HR Specialist\", \"HRIS Analyst\", \"HVAC Engineer\", \"HVAC Installer\", \"Historian\", \"Human Resources Manager\", \"IT Auditor\", \"IT Business Analyst\", \"IT Director\", \"IT Manager\", \"Illustrator\", \"Information Security Analyst\", \"Infrastructure Project Manager\", \"Inspector\", \"Instructional Designer\", \"Instrument Technician\", \"Insurance Agent\", \"Insurance Investigator\", \"Intelligence Analyst\", \"Interior Designer\", \"Ironworker\", \"Janitor\", \"Java Developer\", \"Kinesiology\", \"Kitchen Manager\", \"LPN\", \"LVN\", \"Laboratory Technician\", \"Land Surveyor\", \"Landscape Architect\", \"Leasing Consultant\", \"Legal Secretary\", \"Librarian\", \"Licensed Practical Nurse\", \"Life Coach\", \"Loan Officer\", \"Locksmith\", \"Logistics Manager\", \"Logistics Specialist\", \"Machinist\", \"Manufacturing Engineer\", \"Market Research Analyst\", \"Marketing Manager\", \"Massage Therapist\", \"Mechanical Engineer \", \"Medical Coder\", \"Medical Scribe\", \"Medical Technologist\", \"Merchandiser\", \"Microbiologist\", \"Millwright\", \"Miner \", \"Nail Technician\", \"National Account Manager\", \"National Sales Manager\", \"Network Administrator\", \"Network Architect\", \"Network Engineer\", \"Network Operations Manager\", \"Network Technician\", \"Noc Technician\", \"OSP Engineer\", \"Office Administrator\", \"Office Clerk\", \"Operations Research Analyst\", \"Operations Supervisor\", \"Ophthalmic Technician\", \"Optical Engineer\", \"Optician\", \"Optometrist\", \"Painter\", \"Paralegal\", \"Personal Trainer\", \"Pharmacist\", \"Phlebotomist\", \"Photographer\", \"Piping Designer\", \"Plumber\", \"Police Officer\", \"Preschool Teacher\", \"Private Investigator\", \"Project Manager\", \"Proofreader\", \"Proposal Manager\", \"QA Analyst\", \"QA Engineer\", \"QA Tester\", \"Quality Analyst\", \"Quality Control Analyst\", \"Quality Control Inspector\", \"Quality Control Technician\", \"Quality Engineer\", \"Quality Inspector\", \"Quality Technician\", \"Quantitative Analyst\", \"Quantitative Developer\", \"RF Engineer\", \"Radiology Technologist\", \"Real Estate Paralegal\", \"Recruiter \", \"Recruiting Coordinator\", \"Refrigeration Technician\", \"Release Manager\", \"Reliability Engineer\", \"Research Analyst\", \"Research Scientist\", \"Restaurant Manager\", \"Retail Manager\", \"Retail Merchandiser\", \"SAS Programmer\", \"Safety Manager\", \"Sales Manager\", \"Security Guard\", \"Security Officer\", \"Sheet Metal Worker\", \"Social Worker\", \"Software Developer\", \"Software Tester\", \"Solution Architect\", \"Special Education Teacher\", \"Statistician\", \"Structural Engineer\", \"Supply Chain Manager\", \"Tanker Driver\", \"Teacher\", \"Technical Sales Engineer\", \"Technical Writer\", \"Technician\", \"Telecommunications Technician\", \"Test Engineer\", \"Tooling Engineer\", \"Tower Climber\", \"Training Consultant\", \"Training Coordinator\", \"Translator\", \"Transportation Manager\", \"Travel Agent\", \"Tutor\", \"Ultrasound Technologist\", \"Underwriter\", \"Universal Banker\", \"User Experience Designer\", \"User Experience Researcher\", \"User Interface Designer\", \"Utility Worker\", \"Validation Engineer\", \"Verification Engineer\", \"Veterinarian\", \"Veterinary\", \"Veterinary Technician\", \"Visual Merchandiser\", \"Warehouse Operations Manager\", \"Web Designer\", \"Web Developer\", \"Webmaster\", \"Welder\", \"Welder Fabricator\", \"Welding Engineer\", \"Wellness Coach\", \"Wireless Engineer\", \"Woodworkers\", \"Yard Jockey\", \"Yard Worker\", \"Youth Programs Social Worker\"], \"prob\": [6.020349709231446e-06, 1.536141092427466e-05, 0.000249991166834103, 0.0022968156659740695, 1.0593771927358319e-05, 0.00013445235873502212, 0.00015333473636477412, 0.021804659303114295, 0.00023841601471880232, 0.0002688001719516392, 0.00015792228394803312, 0.0013614270629223892, 5.583075320599966e-05, 2.5498407120549318e-05, 0.0007385492700617775, 3.562204426808599e-05, 0.00020846835031800994, 0.1201267330399222, 8.983273837239307e-05, 8.001701179634978e-05, 0.0010653139230088061, 9.084619253191674e-05, 0.000105912103135283, 0.00010226040780300081, 0.009878521337361418, 0.00035831829296628794, 2.3322683334171584e-05, 0.2120212331540459, 0.0006328244372680892, 0.28147724748799013, 6.510231264124922e-05, 9.235153463526337e-05, 0.00024300503400910258, 0.00017460186789183352, 0.00013694004711727327, 0.015660066611118604, 0.0003499767169240361, 0.0008515010820553337, 0.0004881253976728337, 0.000984845323787752, 0.006865446957564361, 0.0011989999379878192, 0.00011740998038557147, 0.0016658638170065727, 0.0014760548192264509, 2.8386610257894462e-05, 4.1793667747101825e-05, 0.0001195068722509252, 0.000174660733864542, 0.00016143751910409552, 6.528988012694542e-05, 0.00026411015060846246, 0.00021309485063269218, 0.0007809476545505281, 3.6502940970593006e-05, 0.00024447452546256046, 0.0003242842529398462, 3.7202282244147556e-05, 8.233841739404425e-05, 4.2762725185190755e-05, 3.850755496359557e-05, 3.505475939377167e-05, 4.769902868059904e-05, 0.0006797471213470721, 0.00012180939773522907, 4.237620348091607e-05, 0.0003787843167321362, 3.7709435353733974e-05, 2.7389331453101963e-05, 0.0002086674097538536, 4.4461154204527884e-05, 3.612657106070615e-05, 0.0002824807218472711, 0.0003557365464465422, 0.0003874917324078757, 0.0002684114166866789, 0.0005539769402042931, 0.0001214509809849461, 3.972633614135859e-05, 0.004013094276571871, 6.823353484681017e-05, 9.207840255862293e-05, 0.008343710146618081, 0.000110070519395837, 0.0008632373713412064, 0.0012095503228758205, 0.00020011272373136844, 3.1817855333366977e-05, 0.0007908940456223318, 0.010673366194983982, 2.134980038733889e-05, 0.00018510439744947793, 3.2030275795427216e-05, 0.0005646257868561899, 0.00017723935308512376, 0.0004580501471091107, 0.0005153424459444613, 0.0011873158750285513, 0.00012030242776793814, 9.043787997880134e-05, 0.0001242102818970972, 3.756237561468425e-05, 0.0005929943768129933, 0.0001462226651000322, 7.471482150756211e-05, 2.2939550469458338e-05, 7.322709755757183e-05, 0.000261545110497996, 0.00010521607894755168, 0.0002162448208420449, 0.00045944219755122067, 5.998822676831931e-05, 7.707216654108451e-05, 3.1686721799126526e-05, 0.001993256873792863, 0.0009106412021663017, 4.051335598765493e-05, 0.002093306867141306, 0.00013038070502600682, 0.004770155799572899, 0.00014275506349128788, 4.8468481059700115e-05, 2.2245394985743174e-05, 6.976140261429367e-05, 2.95202134302362e-05, 0.0002105300763244617, 0.020384632447473395, 5.056244849521417e-05, 2.848736897873835e-05, 0.0006842326876678554, 0.0035149154393075387, 0.0009222251031639791, 0.0007780733108269267, 0.00012438175519688565, 0.00013472577041802886, 0.00015396016686524197, 0.00019092787185258337, 0.0006848959968932725, 0.00016700555242438943, 0.0001491202016855625, 8.931278730149638e-06, 3.930221477870324e-05, 0.00425652627895939, 3.6851523435969194e-05, 0.00016250247141919223, 0.0007348704697255646, 0.0006814588878917997, 0.0001112859175455542, 8.118199823314639e-05, 0.0001995311266196316, 0.00016142981253955, 0.0002486871789519888, 0.021480847359805072, 2.888230162198889e-05, 0.000557016690194142, 1.6696181150970354e-05, 4.5431142349051904e-05, 0.0002270728454756464, 0.00010680188359517646, 0.0008040308634006832, 0.012777082435627954, 0.0008603539331419747, 0.0006517809049818069, 3.9693007124483696e-05, 0.0008456611418190977, 0.0008001947989914895, 0.0020844813701415884, 0.0005786215183590153, 0.00015028735289885752, 0.005639881501319221, 0.02836807540103587, 0.017279699251549076, 0.0005513570129614, 3.9107151504105e-05, 0.00016148984264360969, 8.465900016447885e-05, 0.00015454253960281528, 0.00016063769228326605, 0.002891951967787276, 0.016702440175178947, 0.015519215358830697, 0.007677189854270094, 9.53984747214619e-05, 1.2595629947143576e-05, 0.00015360512396209606, 0.00035037320465705976, 1.3423445025987439e-05, 0.00010752494033105787, 9.310304586576701e-05, 0.0012228888392122603, 0.0004303975809554222, 0.0011285723693288193, 0.0007219311645103029, 0.04030680067200857, 0.0003928083879096539, 0.0077637370560115875, 0.0012432527206193388, 2.192147057678668e-05, 5.067220528987915e-05, 0.0003468895869340289, 3.118111678088396e-05, 0.008006727126042876, 0.000803210886191928, 4.303672905850795e-05, 0.0014132576681438421, 0.0017791786942884828, 5.185998230576062e-05, 4.040222102252451e-05, 0.00040687252183156983, 0.00026458936673990523, 7.717238233994696e-05, 0.0002502041402858551, 0.00037625449963641375, 0.00023145711689367987, 3.816773927893594e-05, 3.165171509449059e-05, 3.7398005539093364e-05, 0.003100863843012197, 0.0001678541093969101, 0.001993152333702504, 0.0012670724070212047, 0.007180632230819411, 0.00012727926060483746, 0.0012258191360745739, 0.0002561641983834177, 0.0002478927144764543, 0.00016535649237130185, 0.0007910940891854342, 0.006180433905121656, 0.0007285821467958651, 0.0007196796893474568, 0.000314643674436476, 0.0001746443478629802, 3.70228984815105e-05, 0.00025498688174587164, 0.0012613480898097538, 3.733066524746217e-05, 0.00031219769556098046, 0.00014014047665373964]}'"
      ]
     },
     "execution_count": 129,
     "metadata": {},
     "output_type": "execute_result"
    }
   ],
   "source": [
    "json.dumps(pred_result)"
   ]
  }
 ],
 "metadata": {
  "kernelspec": {
   "display_name": "Python 3",
   "language": "python",
   "name": "python3"
  },
  "language_info": {
   "codemirror_mode": {
    "name": "ipython",
    "version": 3
   },
   "file_extension": ".py",
   "mimetype": "text/x-python",
   "name": "python",
   "nbconvert_exporter": "python",
   "pygments_lexer": "ipython3",
   "version": "3.5.1"
  }
 },
 "nbformat": 4,
 "nbformat_minor": 2
}
